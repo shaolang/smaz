{
 "cells": [
  {
   "cell_type": "markdown",
   "id": "206b3337-4f14-467b-91a5-ed6a95c60ae1",
   "metadata": {},
   "source": [
    "In this homework, we're going to combine data from various sources to process it in Pandas and generate additional fields.\n",
    "\n",
    "If not stated otherwise, please use the [LINK][link] covered at the livestream to re-use the code snippets.\n",
    "\n",
    "[link]: https://github.com/DataTalksClub/stock-markets-analytics-zoomcamp/blob/main/02-dataframe-analysis/%5B2025%5D_Module_02_Colab_Working_with_the_data.ipynb\n",
    "---\n",
    "\n",
    "# Question 1: [IPO] Withdrawn IPOs by Company Type\n",
    "\n",
    "What is the total withdrawn IPO value (in $ millions) for the company class with the highest total withdrawal value?\n",
    "\n",
    "From the withdrawn IPO list ([stockanalysis.com/ipos/withdrawn][wdipo]), collect and process the data to find out which company type saw the most withdrawn IPO value.\n",
    "Steps:\n",
    "\n",
    "1. Use `pandas.read_html()` with the URL above to load the IPO withdrawal table into a DataFrame.\n",
    "   _It is a similar process to Code Snippet 1 discussed at the livestream._ You should get **99 entries**.\n",
    "2. Create a new column called `Company Class`, categorizing company names based on patterns like:\n",
    "    - \"Acquisition Corp\" or \"Acquisition Corporation\" → `Acq.Corp`\n",
    "    - \"Inc\" or \"Incorporated\" → `Inc`\n",
    "    - \"Group\" → `Group`\n",
    "    - \"Holdings\" → `Holdings`\n",
    "    - \"Ltd\" or \"Limited\" → `Ltd`\n",
    "    - Others → `Other`\n",
    "   \n",
    "    Hint: make your function more robust by converting names to lowercase and splitting into words before matching patterns.\n",
    "3. Define a new field `Avg. price` by parsing the `Price Range` field (create a function and apply it to the `Price` Range column).\n",
    "   Examples: \n",
    "   - '$8.00-$10.00' → `9.0`\n",
    "   - '$5.00' → `5.0`\n",
    "   - '-' → `None`\n",
    "4. Convert Shares Offered to numeric, clean missing or invalid values.\n",
    "5. Create a new column:\n",
    "   `Withdrawn Value = Shares Offered * Avg Price` **(71 non-null values)**\n",
    "6. Group by Company Class and calculate total withdrawn value.\n",
    "7. **Answer**: Which class had the highest total value of withdrawals?\n",
    "\n",
    "[wdipo]: https://stockanalysis.com/ipos/withdrawn/"
   ]
  },
  {
   "cell_type": "code",
   "execution_count": 47,
   "id": "1fe54a87-0140-4323-b357-ccc74b30ebc3",
   "metadata": {},
   "outputs": [],
   "source": [
    "from bs4 import BeautifulSoup\n",
    "from polars import col as c\n",
    "import polars as pl\n",
    "import requests as r\n",
    "\n",
    "def read_table(url: str) -> pl.DataFrame:\n",
    "    resp = r.get(url)\n",
    "    doc = BeautifulSoup(resp.content, 'html.parser')\n",
    "    table = doc.find(id='main-table')\n",
    "    keys = [e.text.strip() for e in table.find_all(name='th')]\n",
    "\n",
    "    return pl.DataFrame([\n",
    "        dict(zip(keys, [e.text for e in row.find_all(name='td')]))\n",
    "        for row in table.find(name='tbody').find_all(name='tr')\n",
    "    ])"
   ]
  },
  {
   "cell_type": "code",
   "execution_count": null,
   "id": "ad5b765e-07cc-4ebb-8246-9af1fa9e66e4",
   "metadata": {},
   "outputs": [],
   "source": [
    "df = read_table('https://stockanalysis.com/ipos/withdrawn')\n",
    "df.shape"
   ]
  },
  {
   "cell_type": "code",
   "execution_count": 38,
   "id": "32d664d5-ba2b-490d-9564-923646b0b185",
   "metadata": {},
   "outputs": [
    {
     "data": {
      "text/html": [
       "<div><style>\n",
       ".dataframe > thead > tr,\n",
       ".dataframe > tbody > tr {\n",
       "  text-align: right;\n",
       "  white-space: pre-wrap;\n",
       "}\n",
       "</style>\n",
       "<small>shape: (5, 4)</small><table border=\"1\" class=\"dataframe\"><thead><tr><th>Symbol</th><th>Company Name</th><th>Price Range</th><th>Shares Offered</th></tr><tr><td>str</td><td>str</td><td>str</td><td>str</td></tr></thead><tbody><tr><td>&quot;UNFL&quot;</td><td>&quot;Unifoil Holdings, Inc.&quot;</td><td>&quot;$3.00 - $4.00&quot;</td><td>&quot;2,000,000&quot;</td></tr><tr><td>&quot;AURN&quot;</td><td>&quot;Aurion Biotech, Inc.&quot;</td><td>&quot;-&quot;</td><td>&quot;-&quot;</td></tr><tr><td>&quot;ROTR&quot;</td><td>&quot;PHI Group, Inc.&quot;</td><td>&quot;-&quot;</td><td>&quot;-&quot;</td></tr><tr><td>&quot;ONE&quot;</td><td>&quot;One Power Company&quot;</td><td>&quot;-&quot;</td><td>&quot;-&quot;</td></tr><tr><td>&quot;HPOT&quot;</td><td>&quot;The Great Restaurant Developme…</td><td>&quot;$4.00 - $6.00&quot;</td><td>&quot;1,400,000&quot;</td></tr></tbody></table></div>"
      ],
      "text/plain": [
       "shape: (5, 4)\n",
       "┌────────┬─────────────────────────────────┬───────────────┬────────────────┐\n",
       "│ Symbol ┆ Company Name                    ┆ Price Range   ┆ Shares Offered │\n",
       "│ ---    ┆ ---                             ┆ ---           ┆ ---            │\n",
       "│ str    ┆ str                             ┆ str           ┆ str            │\n",
       "╞════════╪═════════════════════════════════╪═══════════════╪════════════════╡\n",
       "│ UNFL   ┆ Unifoil Holdings, Inc.          ┆ $3.00 - $4.00 ┆ 2,000,000      │\n",
       "│ AURN   ┆ Aurion Biotech, Inc.            ┆ -             ┆ -              │\n",
       "│ ROTR   ┆ PHI Group, Inc.                 ┆ -             ┆ -              │\n",
       "│ ONE    ┆ One Power Company               ┆ -             ┆ -              │\n",
       "│ HPOT   ┆ The Great Restaurant Developme… ┆ $4.00 - $6.00 ┆ 1,400,000      │\n",
       "└────────┴─────────────────────────────────┴───────────────┴────────────────┘"
      ]
     },
     "execution_count": 38,
     "metadata": {},
     "output_type": "execute_result"
    }
   ],
   "source": [
    "df.head()"
   ]
  },
  {
   "cell_type": "code",
   "execution_count": 39,
   "id": "fe7ad299-3cf4-4f10-a989-8e1484329011",
   "metadata": {},
   "outputs": [
    {
     "data": {
      "text/html": [
       "<div><style>\n",
       ".dataframe > thead > tr,\n",
       ".dataframe > tbody > tr {\n",
       "  text-align: right;\n",
       "  white-space: pre-wrap;\n",
       "}\n",
       "</style>\n",
       "<small>shape: (71, 7)</small><table border=\"1\" class=\"dataframe\"><thead><tr><th>Symbol</th><th>Company Name</th><th>Price Range</th><th>Shares Offered</th><th>Avg. price</th><th>Company Class</th><th>Withdrawn Value (million)</th></tr><tr><td>str</td><td>str</td><td>str</td><td>i64</td><td>f32</td><td>cat</td><td>f64</td></tr></thead><tbody><tr><td>&quot;UNFL&quot;</td><td>&quot;Unifoil Holdings, Inc.&quot;</td><td>&quot;$3.00 - $4.00&quot;</td><td>2000000</td><td>3.5</td><td>&quot;Inc&quot;</td><td>7.0</td></tr><tr><td>&quot;HPOT&quot;</td><td>&quot;The Great Restaurant Developme…</td><td>&quot;$4.00 - $6.00&quot;</td><td>1400000</td><td>5.0</td><td>&quot;Holdings&quot;</td><td>7.0</td></tr><tr><td>&quot;CABR&quot;</td><td>&quot;Caring Brands, Inc.&quot;</td><td>&quot;$4.00&quot;</td><td>750000</td><td>4.0</td><td>&quot;Inc&quot;</td><td>3.0</td></tr><tr><td>&quot;SQVI&quot;</td><td>&quot;Sequoia Vaccines, Inc.&quot;</td><td>&quot;$8.00 - $10.00&quot;</td><td>2775000</td><td>9.0</td><td>&quot;Inc&quot;</td><td>24.975</td></tr><tr><td>&quot;SNI&quot;</td><td>&quot;Shenni Holdings Limited&quot;</td><td>&quot;$4.00 - $6.00&quot;</td><td>3000000</td><td>5.0</td><td>&quot;Holdings&quot;</td><td>15.0</td></tr><tr><td>&hellip;</td><td>&hellip;</td><td>&hellip;</td><td>&hellip;</td><td>&hellip;</td><td>&hellip;</td><td>&hellip;</td></tr><tr><td>&quot;DPAC&quot;</td><td>&quot;Deep Space Acquisition Corp. I&quot;</td><td>&quot;$10.00&quot;</td><td>21000000</td><td>10.0</td><td>&quot;Acq.Corp&quot;</td><td>210.0</td></tr><tr><td>&quot;GIF&quot;</td><td>&quot;GigCapital6, Inc.&quot;</td><td>&quot;$10.00&quot;</td><td>20000000</td><td>10.0</td><td>&quot;Inc&quot;</td><td>200.0</td></tr><tr><td>&quot;HYIV&quot;</td><td>&quot;Haymaker Acquisition Corp. IV&quot;</td><td>&quot;$10.00&quot;</td><td>26100000</td><td>10.0</td><td>&quot;Acq.Corp&quot;</td><td>261.0</td></tr><tr><td>&quot;IFIT&quot;</td><td>&quot;iFIT Health &amp; Fitness Inc.&quot;</td><td>&quot;$18.00 - $21.00&quot;</td><td>30769231</td><td>19.5</td><td>&quot;Inc&quot;</td><td>600.000004</td></tr><tr><td>&quot;HCG&quot;</td><td>&quot;hear.com N.V.&quot;</td><td>&quot;$17.00 - $20.00&quot;</td><td>16220000</td><td>18.5</td><td>&quot;Other&quot;</td><td>300.07</td></tr></tbody></table></div>"
      ],
      "text/plain": [
       "shape: (71, 7)\n",
       "┌────────┬─────────────────┬─────────────────┬──────────┬────────────┬────────────────┬────────────┐\n",
       "│ Symbol ┆ Company Name    ┆ Price Range     ┆ Shares   ┆ Avg. price ┆ Company Class  ┆ Withdrawn  │\n",
       "│ ---    ┆ ---             ┆ ---             ┆ Offered  ┆ ---        ┆ ---            ┆ Value      │\n",
       "│ str    ┆ str             ┆ str             ┆ ---      ┆ f32        ┆ cat            ┆ (million)  │\n",
       "│        ┆                 ┆                 ┆ i64      ┆            ┆                ┆ ---        │\n",
       "│        ┆                 ┆                 ┆          ┆            ┆                ┆ f64        │\n",
       "╞════════╪═════════════════╪═════════════════╪══════════╪════════════╪════════════════╪════════════╡\n",
       "│ UNFL   ┆ Unifoil         ┆ $3.00 - $4.00   ┆ 2000000  ┆ 3.5        ┆ Inc            ┆ 7.0        │\n",
       "│        ┆ Holdings, Inc.  ┆                 ┆          ┆            ┆                ┆            │\n",
       "│ HPOT   ┆ The Great       ┆ $4.00 - $6.00   ┆ 1400000  ┆ 5.0        ┆ Holdings       ┆ 7.0        │\n",
       "│        ┆ Restaurant      ┆                 ┆          ┆            ┆                ┆            │\n",
       "│        ┆ Developme…      ┆                 ┆          ┆            ┆                ┆            │\n",
       "│ CABR   ┆ Caring Brands,  ┆ $4.00           ┆ 750000   ┆ 4.0        ┆ Inc            ┆ 3.0        │\n",
       "│        ┆ Inc.            ┆                 ┆          ┆            ┆                ┆            │\n",
       "│ SQVI   ┆ Sequoia         ┆ $8.00 - $10.00  ┆ 2775000  ┆ 9.0        ┆ Inc            ┆ 24.975     │\n",
       "│        ┆ Vaccines, Inc.  ┆                 ┆          ┆            ┆                ┆            │\n",
       "│ SNI    ┆ Shenni Holdings ┆ $4.00 - $6.00   ┆ 3000000  ┆ 5.0        ┆ Holdings       ┆ 15.0       │\n",
       "│        ┆ Limited         ┆                 ┆          ┆            ┆                ┆            │\n",
       "│ …      ┆ …               ┆ …               ┆ …        ┆ …          ┆ …              ┆ …          │\n",
       "│ DPAC   ┆ Deep Space      ┆ $10.00          ┆ 21000000 ┆ 10.0       ┆ Acq.Corp       ┆ 210.0      │\n",
       "│        ┆ Acquisition     ┆                 ┆          ┆            ┆                ┆            │\n",
       "│        ┆ Corp. I         ┆                 ┆          ┆            ┆                ┆            │\n",
       "│ GIF    ┆ GigCapital6,    ┆ $10.00          ┆ 20000000 ┆ 10.0       ┆ Inc            ┆ 200.0      │\n",
       "│        ┆ Inc.            ┆                 ┆          ┆            ┆                ┆            │\n",
       "│ HYIV   ┆ Haymaker        ┆ $10.00          ┆ 26100000 ┆ 10.0       ┆ Acq.Corp       ┆ 261.0      │\n",
       "│        ┆ Acquisition     ┆                 ┆          ┆            ┆                ┆            │\n",
       "│        ┆ Corp. IV        ┆                 ┆          ┆            ┆                ┆            │\n",
       "│ IFIT   ┆ iFIT Health &   ┆ $18.00 - $21.00 ┆ 30769231 ┆ 19.5       ┆ Inc            ┆ 600.000004 │\n",
       "│        ┆ Fitness Inc.    ┆                 ┆          ┆            ┆                ┆            │\n",
       "│ HCG    ┆ hear.com N.V.   ┆ $17.00 - $20.00 ┆ 16220000 ┆ 18.5       ┆ Other          ┆ 300.07     │\n",
       "└────────┴─────────────────┴─────────────────┴──────────┴────────────┴────────────────┴────────────┘"
      ]
     },
     "execution_count": 39,
     "metadata": {},
     "output_type": "execute_result"
    }
   ],
   "source": [
    "df = (\n",
    "    df.with_columns(\n",
    "        c('Shares Offered').str.replace_all(',', '').str.to_integer(strict=False),\n",
    "        (\n",
    "            c('Price Range').str.replace_all(r'\\$', '')\n",
    "            .str.split(' - ')\n",
    "            .list.eval(pl.element().cast(pl.Float32, strict=False))\n",
    "            .list.mean()\n",
    "        ).alias('Avg. price'),\n",
    "        pl.when(c('Company Name').str.contains_any(['acquisition corp'], ascii_case_insensitive=True)).then(pl.lit('Acq.Corp'))\n",
    "        .when(c('Company Name').str.contains_any(['inc'],                ascii_case_insensitive=True)).then(pl.lit('Inc'))\n",
    "        .when(c('Company Name').str.contains_any(['group'],              ascii_case_insensitive=True)).then(pl.lit('Group'))\n",
    "        .when(c('Company Name').str.contains_any(['holdings'],           ascii_case_insensitive=True)).then(pl.lit('Holdings'))\n",
    "        .when(c('Company Name').str.contains_any(['ltd', 'limited'],     ascii_case_insensitive=True)).then(pl.lit('Ltd'))\n",
    "        .otherwise(pl.lit('Other'))\n",
    "        .cast(pl.Categorical(ordering='lexical'))\n",
    "        .alias('Company Class')\n",
    "    )\n",
    "    .with_columns(\n",
    "        (c('Avg. price') * c('Shares Offered') / 1_000_000.0).alias('Withdrawn Value (million)')\n",
    "    )\n",
    "    .filter(c('Withdrawn Value (million)').is_not_null())\n",
    ")\n",
    "df"
   ]
  },
  {
   "cell_type": "code",
   "execution_count": 41,
   "id": "c819e269-b5c8-485f-b58a-48cafb5d19f9",
   "metadata": {},
   "outputs": [
    {
     "data": {
      "text/html": [
       "<div><style>\n",
       ".dataframe > thead > tr,\n",
       ".dataframe > tbody > tr {\n",
       "  text-align: right;\n",
       "  white-space: pre-wrap;\n",
       "}\n",
       "</style>\n",
       "<small>shape: (6, 2)</small><table border=\"1\" class=\"dataframe\"><thead><tr><th>Company Class</th><th>Withdrawn Value (million)</th></tr><tr><td>cat</td><td>f64</td></tr></thead><tbody><tr><td>&quot;Acq.Corp&quot;</td><td>4021.0</td></tr><tr><td>&quot;Inc&quot;</td><td>2257.164205</td></tr><tr><td>&quot;Other&quot;</td><td>767.919999</td></tr><tr><td>&quot;Ltd&quot;</td><td>321.734585</td></tr><tr><td>&quot;Holdings&quot;</td><td>303.0</td></tr><tr><td>&quot;Group&quot;</td><td>33.7875</td></tr></tbody></table></div>"
      ],
      "text/plain": [
       "shape: (6, 2)\n",
       "┌───────────────┬───────────────────────────┐\n",
       "│ Company Class ┆ Withdrawn Value (million) │\n",
       "│ ---           ┆ ---                       │\n",
       "│ cat           ┆ f64                       │\n",
       "╞═══════════════╪═══════════════════════════╡\n",
       "│ Acq.Corp      ┆ 4021.0                    │\n",
       "│ Inc           ┆ 2257.164205               │\n",
       "│ Other         ┆ 767.919999                │\n",
       "│ Ltd           ┆ 321.734585                │\n",
       "│ Holdings      ┆ 303.0                     │\n",
       "│ Group         ┆ 33.7875                   │\n",
       "└───────────────┴───────────────────────────┘"
      ]
     },
     "execution_count": 41,
     "metadata": {},
     "output_type": "execute_result"
    }
   ],
   "source": [
    "(\n",
    "    df.group_by('Company Class')\n",
    "    .agg(c('Withdrawn Value (million)').sum())\n",
    ").sort('Withdrawn Value (million)', descending=True)"
   ]
  },
  {
   "cell_type": "markdown",
   "id": "03bf70d0-498c-4f83-9bf8-6729093f4900",
   "metadata": {},
   "source": [
    "# Question 2: [IPO] Median Sharpe Ratio for 2024 IPOs (First 5 Months)\n",
    "\n",
    "What is the median Sharpe ratio (as of 6 June 2025) for companies that went public in the first 5 months of 2024?\n",
    "\n",
    "The goal is to replicate the large-scale yfinance OHLCV data download and perform basic financial calculations on IPO stocks.\n",
    "\n",
    "Steps:\n",
    "\n",
    "1. Using the same approach as in Question 1, download the IPOs in 2024 from: https://stockanalysis.com/ipos/2024/\n",
    "   Filter to keep only those IPOs before 1 June 2024 (first 5 months of 2024). ➤ You should have 75 tickers.\n",
    "2. Use Code Snippet 7 to download daily stock data for those tickers (via yfinance).\n",
    "   Make sure you understand how `growth_1d` ... `growth_365d`, and volatility columns are defined.\n",
    "   Define a new column `growth_252d` representing growth after 252 trading days (~1 year),\n",
    "   in addition to any other growth periods you already track.\n",
    "3. Calculate the Sharpe ratio assuming a risk-free rate of 4.5%:\n",
    "\n",
    "    stocks_df['Sharpe'] = (stocks_df['growth_252d'] - 0.045) / stocks_df['volatility']\n",
    "\n",
    "4. Filter the DataFrame to keep data only for the trading day: '2025-06-06'.\n",
    "   Compute descriptive statistics (e.g., .describe()) for these columns:\n",
    "   - `growth_252`\n",
    "   - Sharpe\n",
    "   You should observe:\n",
    "   - `growth_252d` is defined for 71 out of 75 stocks (some IPOs are too recent or data starts later).\n",
    "   - Median `growth_252d` is approximately 0.75 (indicating a 25% decline), while mean is about 1.15,\n",
    "     showing a bias towards high-growth companies pushing the average up.\n",
    "\n",
    "5. Answer:\n",
    "   - What is the median Sharpe ratio for these 71 stocks?\n",
    "   - Note: Positive Sharpe means growth exceeding the risk-free rate of 4.5%.\n",
    "   - [Additional] Do you observe the same top 10 companies when sorting by `growth_252d` versus sorting by Sharpe?"
   ]
  },
  {
   "cell_type": "code",
   "execution_count": 51,
   "id": "14a450b4-34c4-466f-b822-170345623663",
   "metadata": {},
   "outputs": [
    {
     "data": {
      "text/html": [
       "<div><style>\n",
       ".dataframe > thead > tr,\n",
       ".dataframe > tbody > tr {\n",
       "  text-align: right;\n",
       "  white-space: pre-wrap;\n",
       "}\n",
       "</style>\n",
       "<small>shape: (225, 6)</small><table border=\"1\" class=\"dataframe\"><thead><tr><th>IPO Date</th><th>Symbol</th><th>Company Name</th><th>IPO Price</th><th>Current</th><th>Return</th></tr><tr><td>str</td><td>str</td><td>str</td><td>str</td><td>str</td><td>str</td></tr></thead><tbody><tr><td>&quot;Dec 31, 2024&quot;</td><td>&quot;ONEG&quot;</td><td>&quot;OneConstruction Group Limited&quot;</td><td>&quot;$4.00&quot;</td><td>&quot;$3.51&quot;</td><td>&quot;-12.25%&quot;</td></tr><tr><td>&quot;Dec 27, 2024&quot;</td><td>&quot;PHH&quot;</td><td>&quot;Park Ha Biological Technology …</td><td>&quot;$4.00&quot;</td><td>&quot;$17.84&quot;</td><td>&quot;346.00%&quot;</td></tr><tr><td>&quot;Dec 23, 2024&quot;</td><td>&quot;HIT&quot;</td><td>&quot;Health In Tech, Inc.&quot;</td><td>&quot;$4.00&quot;</td><td>&quot;$0.63&quot;</td><td>&quot;-84.25%&quot;</td></tr><tr><td>&quot;Dec 23, 2024&quot;</td><td>&quot;TDAC&quot;</td><td>&quot;Translational Development Acqu…</td><td>&quot;$10.00&quot;</td><td>&quot;$10.27&quot;</td><td>&quot;2.70%&quot;</td></tr><tr><td>&quot;Dec 20, 2024&quot;</td><td>&quot;RANG&quot;</td><td>&quot;Range Capital Acquisition Corp…</td><td>&quot;$10.00&quot;</td><td>&quot;$10.25&quot;</td><td>&quot;2.50%&quot;</td></tr><tr><td>&hellip;</td><td>&hellip;</td><td>&hellip;</td><td>&hellip;</td><td>&hellip;</td><td>&hellip;</td></tr><tr><td>&quot;Jan 18, 2024&quot;</td><td>&quot;CCTG&quot;</td><td>&quot;CCSC Technology International …</td><td>&quot;$6.00&quot;</td><td>&quot;$1.10&quot;</td><td>&quot;-81.67%&quot;</td></tr><tr><td>&quot;Jan 18, 2024&quot;</td><td>&quot;PSBD&quot;</td><td>&quot;Palmer Square Capital BDC Inc.&quot;</td><td>&quot;$16.45&quot;</td><td>&quot;$13.88&quot;</td><td>&quot;-15.62%&quot;</td></tr><tr><td>&quot;Jan 12, 2024&quot;</td><td>&quot;SYNX&quot;</td><td>&quot;Silynxcom Ltd.&quot;</td><td>&quot;$4.00&quot;</td><td>&quot;$1.68&quot;</td><td>&quot;-58.00%&quot;</td></tr><tr><td>&quot;Jan 11, 2024&quot;</td><td>&quot;SDHC&quot;</td><td>&quot;Smith Douglas Homes Corp.&quot;</td><td>&quot;$21.00&quot;</td><td>&quot;$19.27&quot;</td><td>&quot;-8.24%&quot;</td></tr><tr><td>&quot;Jan 9, 2024&quot;</td><td>&quot;ROMA&quot;</td><td>&quot;Roma Green Finance Limited&quot;</td><td>&quot;$4.00&quot;</td><td>&quot;$3.70&quot;</td><td>&quot;-7.50%&quot;</td></tr></tbody></table></div>"
      ],
      "text/plain": [
       "shape: (225, 6)\n",
       "┌──────────────┬────────┬─────────────────────────────────┬───────────┬─────────┬─────────┐\n",
       "│ IPO Date     ┆ Symbol ┆ Company Name                    ┆ IPO Price ┆ Current ┆ Return  │\n",
       "│ ---          ┆ ---    ┆ ---                             ┆ ---       ┆ ---     ┆ ---     │\n",
       "│ str          ┆ str    ┆ str                             ┆ str       ┆ str     ┆ str     │\n",
       "╞══════════════╪════════╪═════════════════════════════════╪═══════════╪═════════╪═════════╡\n",
       "│ Dec 31, 2024 ┆ ONEG   ┆ OneConstruction Group Limited   ┆ $4.00     ┆ $3.51   ┆ -12.25% │\n",
       "│ Dec 27, 2024 ┆ PHH    ┆ Park Ha Biological Technology … ┆ $4.00     ┆ $17.84  ┆ 346.00% │\n",
       "│ Dec 23, 2024 ┆ HIT    ┆ Health In Tech, Inc.            ┆ $4.00     ┆ $0.63   ┆ -84.25% │\n",
       "│ Dec 23, 2024 ┆ TDAC   ┆ Translational Development Acqu… ┆ $10.00    ┆ $10.27  ┆ 2.70%   │\n",
       "│ Dec 20, 2024 ┆ RANG   ┆ Range Capital Acquisition Corp… ┆ $10.00    ┆ $10.25  ┆ 2.50%   │\n",
       "│ …            ┆ …      ┆ …                               ┆ …         ┆ …       ┆ …       │\n",
       "│ Jan 18, 2024 ┆ CCTG   ┆ CCSC Technology International … ┆ $6.00     ┆ $1.10   ┆ -81.67% │\n",
       "│ Jan 18, 2024 ┆ PSBD   ┆ Palmer Square Capital BDC Inc.  ┆ $16.45    ┆ $13.88  ┆ -15.62% │\n",
       "│ Jan 12, 2024 ┆ SYNX   ┆ Silynxcom Ltd.                  ┆ $4.00     ┆ $1.68   ┆ -58.00% │\n",
       "│ Jan 11, 2024 ┆ SDHC   ┆ Smith Douglas Homes Corp.       ┆ $21.00    ┆ $19.27  ┆ -8.24%  │\n",
       "│ Jan 9, 2024  ┆ ROMA   ┆ Roma Green Finance Limited      ┆ $4.00     ┆ $3.70   ┆ -7.50%  │\n",
       "└──────────────┴────────┴─────────────────────────────────┴───────────┴─────────┴─────────┘"
      ]
     },
     "execution_count": 51,
     "metadata": {},
     "output_type": "execute_result"
    }
   ],
   "source": [
    "df = read_table('https://stockanalysis.com/ipos/2024/')\n",
    "df"
   ]
  },
  {
   "cell_type": "code",
   "execution_count": 55,
   "id": "5c2870f3-23b3-4f12-92df-0529f388e870",
   "metadata": {},
   "outputs": [
    {
     "data": {
      "text/html": [
       "<div><style>\n",
       ".dataframe > thead > tr,\n",
       ".dataframe > tbody > tr {\n",
       "  text-align: right;\n",
       "  white-space: pre-wrap;\n",
       "}\n",
       "</style>\n",
       "<small>shape: (75, 6)</small><table border=\"1\" class=\"dataframe\"><thead><tr><th>IPO Date</th><th>Symbol</th><th>Company Name</th><th>IPO Price</th><th>Current</th><th>Return</th></tr><tr><td>date</td><td>str</td><td>str</td><td>f32</td><td>f32</td><td>f32</td></tr></thead><tbody><tr><td>2024-05-23</td><td>&quot;BOW&quot;</td><td>&quot;Bowhead Specialty Holdings Inc…</td><td>17.0</td><td>36.389999</td><td>114.059998</td></tr><tr><td>2024-05-17</td><td>&quot;HDL&quot;</td><td>&quot;Super Hi International Holding…</td><td>19.559999</td><td>20.440001</td><td>4.5</td></tr><tr><td>2024-05-17</td><td>&quot;RFAI&quot;</td><td>&quot;RF Acquisition Corp II&quot;</td><td>10.0</td><td>10.51</td><td>5.1</td></tr><tr><td>2024-05-15</td><td>&quot;JDZG&quot;</td><td>&quot;JIADE Limited&quot;</td><td>4.0</td><td>0.3</td><td>-92.629997</td></tr><tr><td>2024-05-15</td><td>&quot;RAY&quot;</td><td>&quot;Raytech Holding Limited&quot;</td><td>4.0</td><td>1.26</td><td>-68.629997</td></tr><tr><td>&hellip;</td><td>&hellip;</td><td>&hellip;</td><td>&hellip;</td><td>&hellip;</td><td>&hellip;</td></tr><tr><td>2024-01-18</td><td>&quot;CCTG&quot;</td><td>&quot;CCSC Technology International …</td><td>6.0</td><td>1.1</td><td>-81.669998</td></tr><tr><td>2024-01-18</td><td>&quot;PSBD&quot;</td><td>&quot;Palmer Square Capital BDC Inc.&quot;</td><td>16.450001</td><td>13.88</td><td>-15.62</td></tr><tr><td>2024-01-12</td><td>&quot;SYNX&quot;</td><td>&quot;Silynxcom Ltd.&quot;</td><td>4.0</td><td>1.68</td><td>-58.0</td></tr><tr><td>2024-01-11</td><td>&quot;SDHC&quot;</td><td>&quot;Smith Douglas Homes Corp.&quot;</td><td>21.0</td><td>19.27</td><td>-8.24</td></tr><tr><td>2024-01-09</td><td>&quot;ROMA&quot;</td><td>&quot;Roma Green Finance Limited&quot;</td><td>4.0</td><td>3.7</td><td>-7.5</td></tr></tbody></table></div>"
      ],
      "text/plain": [
       "shape: (75, 6)\n",
       "┌────────────┬────────┬─────────────────────────────────┬───────────┬───────────┬────────────┐\n",
       "│ IPO Date   ┆ Symbol ┆ Company Name                    ┆ IPO Price ┆ Current   ┆ Return     │\n",
       "│ ---        ┆ ---    ┆ ---                             ┆ ---       ┆ ---       ┆ ---        │\n",
       "│ date       ┆ str    ┆ str                             ┆ f32       ┆ f32       ┆ f32        │\n",
       "╞════════════╪════════╪═════════════════════════════════╪═══════════╪═══════════╪════════════╡\n",
       "│ 2024-05-23 ┆ BOW    ┆ Bowhead Specialty Holdings Inc… ┆ 17.0      ┆ 36.389999 ┆ 114.059998 │\n",
       "│ 2024-05-17 ┆ HDL    ┆ Super Hi International Holding… ┆ 19.559999 ┆ 20.440001 ┆ 4.5        │\n",
       "│ 2024-05-17 ┆ RFAI   ┆ RF Acquisition Corp II          ┆ 10.0      ┆ 10.51     ┆ 5.1        │\n",
       "│ 2024-05-15 ┆ JDZG   ┆ JIADE Limited                   ┆ 4.0       ┆ 0.3       ┆ -92.629997 │\n",
       "│ 2024-05-15 ┆ RAY    ┆ Raytech Holding Limited         ┆ 4.0       ┆ 1.26      ┆ -68.629997 │\n",
       "│ …          ┆ …      ┆ …                               ┆ …         ┆ …         ┆ …          │\n",
       "│ 2024-01-18 ┆ CCTG   ┆ CCSC Technology International … ┆ 6.0       ┆ 1.1       ┆ -81.669998 │\n",
       "│ 2024-01-18 ┆ PSBD   ┆ Palmer Square Capital BDC Inc.  ┆ 16.450001 ┆ 13.88     ┆ -15.62     │\n",
       "│ 2024-01-12 ┆ SYNX   ┆ Silynxcom Ltd.                  ┆ 4.0       ┆ 1.68      ┆ -58.0      │\n",
       "│ 2024-01-11 ┆ SDHC   ┆ Smith Douglas Homes Corp.       ┆ 21.0      ┆ 19.27     ┆ -8.24      │\n",
       "│ 2024-01-09 ┆ ROMA   ┆ Roma Green Finance Limited      ┆ 4.0       ┆ 3.7       ┆ -7.5       │\n",
       "└────────────┴────────┴─────────────────────────────────┴───────────┴───────────┴────────────┘"
      ]
     },
     "execution_count": 55,
     "metadata": {},
     "output_type": "execute_result"
    }
   ],
   "source": [
    "from datetime import date\n",
    "\n",
    "(\n",
    "    df.with_columns(\n",
    "        c('IPO Date').str.strptime(pl.Date, '%B %d, %Y'),\n",
    "        c('IPO Price').str.replace(r'\\$', '').cast(pl.Float32, strict=False),\n",
    "        c('Current').str.replace(r'\\$', '').cast(pl.Float32, strict=False),\n",
    "        c('Return').str.replace('%', '').cast(pl.Float32, strict=False),\n",
    "    )\n",
    "    .filter((c('IPO Date') < date(2024, 6, 1)) & c('Return').is_not_null())\n",
    ")"
   ]
  },
  {
   "cell_type": "code",
   "execution_count": null,
   "id": "882b86bc-a7ec-495e-bb20-2cc027eec658",
   "metadata": {},
   "outputs": [],
   "source": []
  }
 ],
 "metadata": {
  "kernelspec": {
   "display_name": "Python 3 (ipykernel)",
   "language": "python",
   "name": "python3"
  },
  "language_info": {
   "codemirror_mode": {
    "name": "ipython",
    "version": 3
   },
   "file_extension": ".py",
   "mimetype": "text/x-python",
   "name": "python",
   "nbconvert_exporter": "python",
   "pygments_lexer": "ipython3",
   "version": "3.12.10"
  }
 },
 "nbformat": 4,
 "nbformat_minor": 5
}
