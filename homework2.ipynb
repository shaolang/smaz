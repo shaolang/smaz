{
 "cells": [
  {
   "cell_type": "markdown",
   "id": "206b3337-4f14-467b-91a5-ed6a95c60ae1",
   "metadata": {},
   "source": [
    "In this homework, we're going to combine data from various sources to process it in Pandas and generate additional fields.\n",
    "\n",
    "If not stated otherwise, please use the [LINK][link] covered at the livestream to re-use the code snippets.\n",
    "\n",
    "[link]: https://github.com/DataTalksClub/stock-markets-analytics-zoomcamp/blob/main/02-dataframe-analysis/%5B2025%5D_Module_02_Colab_Working_with_the_data.ipynb\n",
    "---\n",
    "\n",
    "# Question 1: [IPO] Withdrawn IPOs by Company Type\n",
    "\n",
    "What is the total withdrawn IPO value (in $ millions) for the company class with the highest total withdrawal value?\n",
    "\n",
    "From the withdrawn IPO list ([stockanalysis.com/ipos/withdrawn][wdipo]), collect and process the data to find out which company type saw the most withdrawn IPO value.\n",
    "Steps:\n",
    "\n",
    "1. Use `pandas.read_html()` with the URL above to load the IPO withdrawal table into a DataFrame.\n",
    "   _It is a similar process to Code Snippet 1 discussed at the livestream._ You should get **99 entries**.\n",
    "2. Create a new column called `Company Class`, categorizing company names based on patterns like:\n",
    "    - \"Acquisition Corp\" or \"Acquisition Corporation\" → `Acq.Corp`\n",
    "    - \"Inc\" or \"Incorporated\" → `Inc`\n",
    "    - \"Group\" → `Group`\n",
    "    - \"Ltd\" or \"Limited\" → `Limited`\n",
    "    - \"Holdings\" → `Holdings`\n",
    "    - Others → `Other`\n",
    "   \n",
    "   Order: Please follow the listed order of classes and assign the first matched value (e.g., for 'shenni holdings limited',\n",
    "   you assign the `Limited` class).\n",
    "   \n",
    "    Hint: make your function more robust by converting names to lowercase and splitting into words before matching patterns.\n",
    "4. Define a new field `Avg. price` by parsing the `Price Range` field (create a function and apply it to the `Price` Range column).\n",
    "   Examples: \n",
    "   - '$8.00-$10.00' → `9.0`\n",
    "   - '$5.00' → `5.0`\n",
    "   - '-' → `None`\n",
    "5. Convert Shares Offered to numeric, clean missing or invalid values.\n",
    "6. Create a new column:\n",
    "   `Withdrawn Value = Shares Offered * Avg Price` **(71 non-null values)**\n",
    "7. Group by Company Class and calculate total withdrawn value.\n",
    "8. **Answer**: Which class had the highest total value of withdrawals?\n",
    "\n",
    "[wdipo]: https://stockanalysis.com/ipos/withdrawn/"
   ]
  },
  {
   "cell_type": "code",
   "execution_count": 1,
   "id": "1fe54a87-0140-4323-b357-ccc74b30ebc3",
   "metadata": {},
   "outputs": [],
   "source": [
    "from bs4 import BeautifulSoup\n",
    "from polars import col as c\n",
    "import polars as pl\n",
    "import requests as r\n",
    "\n",
    "def read_table(url: str) -> pl.DataFrame:\n",
    "    resp = r.get(url)\n",
    "    doc = BeautifulSoup(resp.content, 'html.parser')\n",
    "    table = doc.find(id='main-table')\n",
    "    keys = [e.text.strip() for e in table.find_all(name='th')]\n",
    "\n",
    "    return pl.DataFrame([\n",
    "        dict(zip(keys, [e.text for e in row.find_all(name='td')]))\n",
    "        for row in table.find(name='tbody').find_all(name='tr')\n",
    "    ])"
   ]
  },
  {
   "cell_type": "code",
   "execution_count": 2,
   "id": "ad5b765e-07cc-4ebb-8246-9af1fa9e66e4",
   "metadata": {},
   "outputs": [
    {
     "data": {
      "text/plain": [
       "(100, 4)"
      ]
     },
     "execution_count": 2,
     "metadata": {},
     "output_type": "execute_result"
    }
   ],
   "source": [
    "df = read_table('https://stockanalysis.com/ipos/withdrawn')\n",
    "df.shape"
   ]
  },
  {
   "cell_type": "code",
   "execution_count": 3,
   "id": "32d664d5-ba2b-490d-9564-923646b0b185",
   "metadata": {},
   "outputs": [
    {
     "data": {
      "text/html": [
       "<div><style>\n",
       ".dataframe > thead > tr,\n",
       ".dataframe > tbody > tr {\n",
       "  text-align: right;\n",
       "  white-space: pre-wrap;\n",
       "}\n",
       "</style>\n",
       "<small>shape: (5, 4)</small><table border=\"1\" class=\"dataframe\"><thead><tr><th>Symbol</th><th>Company Name</th><th>Price Range</th><th>Shares Offered</th></tr><tr><td>str</td><td>str</td><td>str</td><td>str</td></tr></thead><tbody><tr><td>&quot;ODTX&quot;</td><td>&quot;Odyssey Therapeutics, Inc.&quot;</td><td>&quot;-&quot;</td><td>&quot;-&quot;</td></tr><tr><td>&quot;UNFL&quot;</td><td>&quot;Unifoil Holdings, Inc.&quot;</td><td>&quot;$3.00 - $4.00&quot;</td><td>&quot;2,000,000&quot;</td></tr><tr><td>&quot;AURN&quot;</td><td>&quot;Aurion Biotech, Inc.&quot;</td><td>&quot;-&quot;</td><td>&quot;-&quot;</td></tr><tr><td>&quot;ROTR&quot;</td><td>&quot;PHI Group, Inc.&quot;</td><td>&quot;-&quot;</td><td>&quot;-&quot;</td></tr><tr><td>&quot;ONE&quot;</td><td>&quot;One Power Company&quot;</td><td>&quot;-&quot;</td><td>&quot;-&quot;</td></tr></tbody></table></div>"
      ],
      "text/plain": [
       "shape: (5, 4)\n",
       "┌────────┬────────────────────────────┬───────────────┬────────────────┐\n",
       "│ Symbol ┆ Company Name               ┆ Price Range   ┆ Shares Offered │\n",
       "│ ---    ┆ ---                        ┆ ---           ┆ ---            │\n",
       "│ str    ┆ str                        ┆ str           ┆ str            │\n",
       "╞════════╪════════════════════════════╪═══════════════╪════════════════╡\n",
       "│ ODTX   ┆ Odyssey Therapeutics, Inc. ┆ -             ┆ -              │\n",
       "│ UNFL   ┆ Unifoil Holdings, Inc.     ┆ $3.00 - $4.00 ┆ 2,000,000      │\n",
       "│ AURN   ┆ Aurion Biotech, Inc.       ┆ -             ┆ -              │\n",
       "│ ROTR   ┆ PHI Group, Inc.            ┆ -             ┆ -              │\n",
       "│ ONE    ┆ One Power Company          ┆ -             ┆ -              │\n",
       "└────────┴────────────────────────────┴───────────────┴────────────────┘"
      ]
     },
     "execution_count": 3,
     "metadata": {},
     "output_type": "execute_result"
    }
   ],
   "source": [
    "df.head()"
   ]
  },
  {
   "cell_type": "code",
   "execution_count": 4,
   "id": "fe7ad299-3cf4-4f10-a989-8e1484329011",
   "metadata": {},
   "outputs": [
    {
     "data": {
      "text/html": [
       "<div><style>\n",
       ".dataframe > thead > tr,\n",
       ".dataframe > tbody > tr {\n",
       "  text-align: right;\n",
       "  white-space: pre-wrap;\n",
       "}\n",
       "</style>\n",
       "<small>shape: (71, 7)</small><table border=\"1\" class=\"dataframe\"><thead><tr><th>Symbol</th><th>Company Name</th><th>Price Range</th><th>Shares Offered</th><th>Avg. price</th><th>Company Class</th><th>Withdrawn Value (million)</th></tr><tr><td>str</td><td>str</td><td>str</td><td>i64</td><td>f32</td><td>cat</td><td>f64</td></tr></thead><tbody><tr><td>&quot;UNFL&quot;</td><td>&quot;Unifoil Holdings, Inc.&quot;</td><td>&quot;$3.00 - $4.00&quot;</td><td>2000000</td><td>3.5</td><td>&quot;Inc&quot;</td><td>7.0</td></tr><tr><td>&quot;HPOT&quot;</td><td>&quot;The Great Restaurant Developme…</td><td>&quot;$4.00 - $6.00&quot;</td><td>1400000</td><td>5.0</td><td>&quot;Limited&quot;</td><td>7.0</td></tr><tr><td>&quot;CABR&quot;</td><td>&quot;Caring Brands, Inc.&quot;</td><td>&quot;$4.00&quot;</td><td>750000</td><td>4.0</td><td>&quot;Inc&quot;</td><td>3.0</td></tr><tr><td>&quot;SQVI&quot;</td><td>&quot;Sequoia Vaccines, Inc.&quot;</td><td>&quot;$8.00 - $10.00&quot;</td><td>2775000</td><td>9.0</td><td>&quot;Inc&quot;</td><td>24.975</td></tr><tr><td>&quot;SNI&quot;</td><td>&quot;Shenni Holdings Limited&quot;</td><td>&quot;$4.00 - $6.00&quot;</td><td>3000000</td><td>5.0</td><td>&quot;Limited&quot;</td><td>15.0</td></tr><tr><td>&hellip;</td><td>&hellip;</td><td>&hellip;</td><td>&hellip;</td><td>&hellip;</td><td>&hellip;</td><td>&hellip;</td></tr><tr><td>&quot;DPAC&quot;</td><td>&quot;Deep Space Acquisition Corp. I&quot;</td><td>&quot;$10.00&quot;</td><td>21000000</td><td>10.0</td><td>&quot;Acq.Corp&quot;</td><td>210.0</td></tr><tr><td>&quot;GIF&quot;</td><td>&quot;GigCapital6, Inc.&quot;</td><td>&quot;$10.00&quot;</td><td>20000000</td><td>10.0</td><td>&quot;Inc&quot;</td><td>200.0</td></tr><tr><td>&quot;HYIV&quot;</td><td>&quot;Haymaker Acquisition Corp. IV&quot;</td><td>&quot;$10.00&quot;</td><td>26100000</td><td>10.0</td><td>&quot;Acq.Corp&quot;</td><td>261.0</td></tr><tr><td>&quot;IFIT&quot;</td><td>&quot;iFIT Health &amp; Fitness Inc.&quot;</td><td>&quot;$18.00 - $21.00&quot;</td><td>30769231</td><td>19.5</td><td>&quot;Inc&quot;</td><td>600.000004</td></tr><tr><td>&quot;HCG&quot;</td><td>&quot;hear.com N.V.&quot;</td><td>&quot;$17.00 - $20.00&quot;</td><td>16220000</td><td>18.5</td><td>&quot;Other&quot;</td><td>300.07</td></tr></tbody></table></div>"
      ],
      "text/plain": [
       "shape: (71, 7)\n",
       "┌────────┬─────────────────┬─────────────────┬──────────┬────────────┬────────────────┬────────────┐\n",
       "│ Symbol ┆ Company Name    ┆ Price Range     ┆ Shares   ┆ Avg. price ┆ Company Class  ┆ Withdrawn  │\n",
       "│ ---    ┆ ---             ┆ ---             ┆ Offered  ┆ ---        ┆ ---            ┆ Value      │\n",
       "│ str    ┆ str             ┆ str             ┆ ---      ┆ f32        ┆ cat            ┆ (million)  │\n",
       "│        ┆                 ┆                 ┆ i64      ┆            ┆                ┆ ---        │\n",
       "│        ┆                 ┆                 ┆          ┆            ┆                ┆ f64        │\n",
       "╞════════╪═════════════════╪═════════════════╪══════════╪════════════╪════════════════╪════════════╡\n",
       "│ UNFL   ┆ Unifoil         ┆ $3.00 - $4.00   ┆ 2000000  ┆ 3.5        ┆ Inc            ┆ 7.0        │\n",
       "│        ┆ Holdings, Inc.  ┆                 ┆          ┆            ┆                ┆            │\n",
       "│ HPOT   ┆ The Great       ┆ $4.00 - $6.00   ┆ 1400000  ┆ 5.0        ┆ Limited        ┆ 7.0        │\n",
       "│        ┆ Restaurant      ┆                 ┆          ┆            ┆                ┆            │\n",
       "│        ┆ Developme…      ┆                 ┆          ┆            ┆                ┆            │\n",
       "│ CABR   ┆ Caring Brands,  ┆ $4.00           ┆ 750000   ┆ 4.0        ┆ Inc            ┆ 3.0        │\n",
       "│        ┆ Inc.            ┆                 ┆          ┆            ┆                ┆            │\n",
       "│ SQVI   ┆ Sequoia         ┆ $8.00 - $10.00  ┆ 2775000  ┆ 9.0        ┆ Inc            ┆ 24.975     │\n",
       "│        ┆ Vaccines, Inc.  ┆                 ┆          ┆            ┆                ┆            │\n",
       "│ SNI    ┆ Shenni Holdings ┆ $4.00 - $6.00   ┆ 3000000  ┆ 5.0        ┆ Limited        ┆ 15.0       │\n",
       "│        ┆ Limited         ┆                 ┆          ┆            ┆                ┆            │\n",
       "│ …      ┆ …               ┆ …               ┆ …        ┆ …          ┆ …              ┆ …          │\n",
       "│ DPAC   ┆ Deep Space      ┆ $10.00          ┆ 21000000 ┆ 10.0       ┆ Acq.Corp       ┆ 210.0      │\n",
       "│        ┆ Acquisition     ┆                 ┆          ┆            ┆                ┆            │\n",
       "│        ┆ Corp. I         ┆                 ┆          ┆            ┆                ┆            │\n",
       "│ GIF    ┆ GigCapital6,    ┆ $10.00          ┆ 20000000 ┆ 10.0       ┆ Inc            ┆ 200.0      │\n",
       "│        ┆ Inc.            ┆                 ┆          ┆            ┆                ┆            │\n",
       "│ HYIV   ┆ Haymaker        ┆ $10.00          ┆ 26100000 ┆ 10.0       ┆ Acq.Corp       ┆ 261.0      │\n",
       "│        ┆ Acquisition     ┆                 ┆          ┆            ┆                ┆            │\n",
       "│        ┆ Corp. IV        ┆                 ┆          ┆            ┆                ┆            │\n",
       "│ IFIT   ┆ iFIT Health &   ┆ $18.00 - $21.00 ┆ 30769231 ┆ 19.5       ┆ Inc            ┆ 600.000004 │\n",
       "│        ┆ Fitness Inc.    ┆                 ┆          ┆            ┆                ┆            │\n",
       "│ HCG    ┆ hear.com N.V.   ┆ $17.00 - $20.00 ┆ 16220000 ┆ 18.5       ┆ Other          ┆ 300.07     │\n",
       "└────────┴─────────────────┴─────────────────┴──────────┴────────────┴────────────────┴────────────┘"
      ]
     },
     "execution_count": 4,
     "metadata": {},
     "output_type": "execute_result"
    }
   ],
   "source": [
    "df = (\n",
    "    df.with_columns(\n",
    "        c('Shares Offered').str.replace_all(',', '').str.to_integer(strict=False),\n",
    "        (\n",
    "            c('Price Range').str.replace_all(r'\\$', '')\n",
    "            .str.split(' - ')\n",
    "            .list.eval(pl.element().cast(pl.Float32, strict=False))\n",
    "            .list.mean()\n",
    "        ).alias('Avg. price'),\n",
    "        pl.when(c('Company Name').str.contains_any(['acquisition corp'], ascii_case_insensitive=True)).then(pl.lit('Acq.Corp'))\n",
    "        .when(c('Company Name').str.contains_any(['inc'],                ascii_case_insensitive=True)).then(pl.lit('Inc'))\n",
    "        .when(c('Company Name').str.contains_any(['group'],              ascii_case_insensitive=True)).then(pl.lit('Group'))\n",
    "        .when(c('Company Name').str.contains_any(['ltd', 'limited'],     ascii_case_insensitive=True)).then(pl.lit('Limited'))\n",
    "        .when(c('Company Name').str.contains_any(['holdings'],           ascii_case_insensitive=True)).then(pl.lit('Holdings'))\n",
    "        .otherwise(pl.lit('Other'))\n",
    "        .cast(pl.Categorical(ordering='lexical'))\n",
    "        .alias('Company Class')\n",
    "    )\n",
    "    .with_columns(\n",
    "        (c('Avg. price') * c('Shares Offered') / 1_000_000.0).alias('Withdrawn Value (million)')\n",
    "    )\n",
    "    .filter(c('Withdrawn Value (million)').is_not_null())\n",
    ")\n",
    "df"
   ]
  },
  {
   "cell_type": "code",
   "execution_count": 5,
   "id": "c819e269-b5c8-485f-b58a-48cafb5d19f9",
   "metadata": {},
   "outputs": [
    {
     "data": {
      "text/html": [
       "<div><style>\n",
       ".dataframe > thead > tr,\n",
       ".dataframe > tbody > tr {\n",
       "  text-align: right;\n",
       "  white-space: pre-wrap;\n",
       "}\n",
       "</style>\n",
       "<small>shape: (6, 2)</small><table border=\"1\" class=\"dataframe\"><thead><tr><th>Company Class</th><th>Withdrawn Value (million)</th></tr><tr><td>cat</td><td>f64</td></tr></thead><tbody><tr><td>&quot;Acq.Corp&quot;</td><td>4021.00</td></tr><tr><td>&quot;Inc&quot;</td><td>2257.16</td></tr><tr><td>&quot;Other&quot;</td><td>767.92</td></tr><tr><td>&quot;Limited&quot;</td><td>549.73</td></tr><tr><td>&quot;Holdings&quot;</td><td>75.00</td></tr><tr><td>&quot;Group&quot;</td><td>33.79</td></tr></tbody></table></div>"
      ],
      "text/plain": [
       "shape: (6, 2)\n",
       "┌───────────────┬───────────────────────────┐\n",
       "│ Company Class ┆ Withdrawn Value (million) │\n",
       "│ ---           ┆ ---                       │\n",
       "│ cat           ┆ f64                       │\n",
       "╞═══════════════╪═══════════════════════════╡\n",
       "│ Acq.Corp      ┆ 4021.00                   │\n",
       "│ Inc           ┆ 2257.16                   │\n",
       "│ Other         ┆ 767.92                    │\n",
       "│ Limited       ┆ 549.73                    │\n",
       "│ Holdings      ┆ 75.00                     │\n",
       "│ Group         ┆ 33.79                     │\n",
       "└───────────────┴───────────────────────────┘"
      ]
     },
     "execution_count": 5,
     "metadata": {},
     "output_type": "execute_result"
    }
   ],
   "source": [
    "pl.Config.set_float_precision(2)\n",
    "\n",
    "(\n",
    "    df.group_by('Company Class')\n",
    "    .agg(c('Withdrawn Value (million)').sum())\n",
    ").sort('Withdrawn Value (million)', descending=True)"
   ]
  },
  {
   "cell_type": "markdown",
   "id": "03bf70d0-498c-4f83-9bf8-6729093f4900",
   "metadata": {},
   "source": [
    "# Question 2: [IPO] Median Sharpe Ratio for 2024 IPOs (First 5 Months)\n",
    "\n",
    "What is the median Sharpe ratio (as of 6 June 2025) for companies that went public in the first 5 months of 2024?\n",
    "\n",
    "The goal is to replicate the large-scale yfinance OHLCV data download and perform basic financial calculations on IPO stocks.\n",
    "\n",
    "Steps:\n",
    "\n",
    "1. Using the same approach as in Question 1, download the IPOs in 2024 from: https://stockanalysis.com/ipos/2024/\n",
    "   Filter to keep only those IPOs before 1 June 2024 (first 5 months of 2024). ➤ You should have 75 tickers.\n",
    "2. Use Code Snippet 7 to download daily stock data for those tickers (via yfinance).\n",
    "   Make sure you understand how `growth_1d` ... `growth_365d`, and volatility columns are defined.\n",
    "   Define a new column `growth_252d` representing growth after 252 trading days (~1 year),\n",
    "   in addition to any other growth periods you already track.\n",
    "3. Calculate the Sharpe ratio assuming a risk-free rate of 4.5%:\n",
    "\n",
    "    stocks_df['Sharpe'] = (stocks_df['growth_252d'] - 0.045) / stocks_df['volatility']\n",
    "\n",
    "4. Filter the DataFrame to keep data only for the trading day: '2025-06-06'.\n",
    "   Compute descriptive statistics (e.g., .describe()) for these columns:\n",
    "   - `growth_252`\n",
    "   - Sharpe\n",
    "   You should observe:\n",
    "   - `growth_252d` is defined for 71 out of 75 stocks (some IPOs are too recent or data starts later).\n",
    "   - Median `growth_252d` is approximately 0.75 (indicating a 25% decline), while mean is about 1.15,\n",
    "     showing a bias towards high-growth companies pushing the average up.\n",
    "\n",
    "5. Answer:\n",
    "   - What is the median Sharpe ratio for these 71 stocks?\n",
    "   - Note: Positive Sharpe means growth exceeding the risk-free rate of 4.5%.\n",
    "   - [Additional] Do you observe the same top 10 companies when sorting by `growth_252d` versus sorting by Sharpe?"
   ]
  },
  {
   "cell_type": "code",
   "execution_count": 6,
   "id": "14a450b4-34c4-466f-b822-170345623663",
   "metadata": {},
   "outputs": [
    {
     "data": {
      "text/html": [
       "<div><style>\n",
       ".dataframe > thead > tr,\n",
       ".dataframe > tbody > tr {\n",
       "  text-align: right;\n",
       "  white-space: pre-wrap;\n",
       "}\n",
       "</style>\n",
       "<small>shape: (225, 6)</small><table border=\"1\" class=\"dataframe\"><thead><tr><th>IPO Date</th><th>Symbol</th><th>Company Name</th><th>IPO Price</th><th>Current</th><th>Return</th></tr><tr><td>str</td><td>str</td><td>str</td><td>str</td><td>str</td><td>str</td></tr></thead><tbody><tr><td>&quot;Dec 31, 2024&quot;</td><td>&quot;ONEG&quot;</td><td>&quot;OneConstruction Group Limited&quot;</td><td>&quot;$4.00&quot;</td><td>&quot;$3.73&quot;</td><td>&quot;-6.64%&quot;</td></tr><tr><td>&quot;Dec 27, 2024&quot;</td><td>&quot;PHH&quot;</td><td>&quot;Park Ha Biological Technology …</td><td>&quot;$4.00&quot;</td><td>&quot;$19.80&quot;</td><td>&quot;395.00%&quot;</td></tr><tr><td>&quot;Dec 23, 2024&quot;</td><td>&quot;HIT&quot;</td><td>&quot;Health In Tech, Inc.&quot;</td><td>&quot;$4.00&quot;</td><td>&quot;$0.60&quot;</td><td>&quot;-85.08%&quot;</td></tr><tr><td>&quot;Dec 23, 2024&quot;</td><td>&quot;TDAC&quot;</td><td>&quot;Translational Development Acqu…</td><td>&quot;$10.00&quot;</td><td>&quot;$10.28&quot;</td><td>&quot;2.80%&quot;</td></tr><tr><td>&quot;Dec 20, 2024&quot;</td><td>&quot;RANG&quot;</td><td>&quot;Range Capital Acquisition Corp…</td><td>&quot;$10.00&quot;</td><td>&quot;$10.31&quot;</td><td>&quot;3.10%&quot;</td></tr><tr><td>&hellip;</td><td>&hellip;</td><td>&hellip;</td><td>&hellip;</td><td>&hellip;</td><td>&hellip;</td></tr><tr><td>&quot;Jan 18, 2024&quot;</td><td>&quot;CCTG&quot;</td><td>&quot;CCSC Technology International …</td><td>&quot;$6.00&quot;</td><td>&quot;$1.08&quot;</td><td>&quot;-82.00%&quot;</td></tr><tr><td>&quot;Jan 18, 2024&quot;</td><td>&quot;PSBD&quot;</td><td>&quot;Palmer Square Capital BDC Inc.&quot;</td><td>&quot;$16.45&quot;</td><td>&quot;$14.20&quot;</td><td>&quot;-13.68%&quot;</td></tr><tr><td>&quot;Jan 12, 2024&quot;</td><td>&quot;SYNX&quot;</td><td>&quot;Silynxcom Ltd.&quot;</td><td>&quot;$4.00&quot;</td><td>&quot;$1.89&quot;</td><td>&quot;-52.75%&quot;</td></tr><tr><td>&quot;Jan 11, 2024&quot;</td><td>&quot;SDHC&quot;</td><td>&quot;Smith Douglas Homes Corp.&quot;</td><td>&quot;$21.00&quot;</td><td>&quot;$17.72&quot;</td><td>&quot;-15.62%&quot;</td></tr><tr><td>&quot;Jan 9, 2024&quot;</td><td>&quot;ROMA&quot;</td><td>&quot;Roma Green Finance Limited&quot;</td><td>&quot;$4.00&quot;</td><td>&quot;$2.76&quot;</td><td>&quot;-31.00%&quot;</td></tr></tbody></table></div>"
      ],
      "text/plain": [
       "shape: (225, 6)\n",
       "┌──────────────┬────────┬─────────────────────────────────┬───────────┬─────────┬─────────┐\n",
       "│ IPO Date     ┆ Symbol ┆ Company Name                    ┆ IPO Price ┆ Current ┆ Return  │\n",
       "│ ---          ┆ ---    ┆ ---                             ┆ ---       ┆ ---     ┆ ---     │\n",
       "│ str          ┆ str    ┆ str                             ┆ str       ┆ str     ┆ str     │\n",
       "╞══════════════╪════════╪═════════════════════════════════╪═══════════╪═════════╪═════════╡\n",
       "│ Dec 31, 2024 ┆ ONEG   ┆ OneConstruction Group Limited   ┆ $4.00     ┆ $3.73   ┆ -6.64%  │\n",
       "│ Dec 27, 2024 ┆ PHH    ┆ Park Ha Biological Technology … ┆ $4.00     ┆ $19.80  ┆ 395.00% │\n",
       "│ Dec 23, 2024 ┆ HIT    ┆ Health In Tech, Inc.            ┆ $4.00     ┆ $0.60   ┆ -85.08% │\n",
       "│ Dec 23, 2024 ┆ TDAC   ┆ Translational Development Acqu… ┆ $10.00    ┆ $10.28  ┆ 2.80%   │\n",
       "│ Dec 20, 2024 ┆ RANG   ┆ Range Capital Acquisition Corp… ┆ $10.00    ┆ $10.31  ┆ 3.10%   │\n",
       "│ …            ┆ …      ┆ …                               ┆ …         ┆ …       ┆ …       │\n",
       "│ Jan 18, 2024 ┆ CCTG   ┆ CCSC Technology International … ┆ $6.00     ┆ $1.08   ┆ -82.00% │\n",
       "│ Jan 18, 2024 ┆ PSBD   ┆ Palmer Square Capital BDC Inc.  ┆ $16.45    ┆ $14.20  ┆ -13.68% │\n",
       "│ Jan 12, 2024 ┆ SYNX   ┆ Silynxcom Ltd.                  ┆ $4.00     ┆ $1.89   ┆ -52.75% │\n",
       "│ Jan 11, 2024 ┆ SDHC   ┆ Smith Douglas Homes Corp.       ┆ $21.00    ┆ $17.72  ┆ -15.62% │\n",
       "│ Jan 9, 2024  ┆ ROMA   ┆ Roma Green Finance Limited      ┆ $4.00     ┆ $2.76   ┆ -31.00% │\n",
       "└──────────────┴────────┴─────────────────────────────────┴───────────┴─────────┴─────────┘"
      ]
     },
     "execution_count": 6,
     "metadata": {},
     "output_type": "execute_result"
    }
   ],
   "source": [
    "df = read_table('https://stockanalysis.com/ipos/2024/')\n",
    "df"
   ]
  },
  {
   "cell_type": "code",
   "execution_count": 7,
   "id": "5c2870f3-23b3-4f12-92df-0529f388e870",
   "metadata": {},
   "outputs": [],
   "source": [
    "from datetime import date\n",
    "\n",
    "df = (\n",
    "    df.with_columns(\n",
    "        c('IPO Date').str.strptime(pl.Date, '%B %d, %Y'),\n",
    "        c('IPO Price').str.replace(r'\\$', '').cast(pl.Float32, strict=False),\n",
    "        c('Current').str.replace(r'\\$', '').cast(pl.Float32, strict=False),\n",
    "        c('Return').str.replace('%', '').cast(pl.Float32, strict=False),\n",
    "    )\n",
    "    .filter((c('IPO Date') < date(2024, 6, 1)) & c('Return').is_not_null())\n",
    ")"
   ]
  },
  {
   "cell_type": "code",
   "execution_count": 8,
   "id": "882b86bc-a7ec-495e-bb20-2cc027eec658",
   "metadata": {},
   "outputs": [],
   "source": [
    "import yfinance as yf\n",
    "from pathlib import Path\n",
    "\n",
    "def load_ohlc_history(symbol: str) -> pl.DataFrame:\n",
    "    fname = Path.cwd() / f'{symbol.lower()}.csv'\n",
    "    \n",
    "    if fname.exists():\n",
    "        df = (\n",
    "            pl.read_csv(fname)\n",
    "            .with_columns(\n",
    "                Date=c('Date').str.strptime(pl.Datetime(time_unit='us'), '%Y-%m-%dT%H:%M:%S%.9f%z', strict=False),\n",
    "                Symbol=pl.lit(symbol),\n",
    "            )\n",
    "        )\n",
    "    else:\n",
    "        df = (\n",
    "            pl.DataFrame(yf.Ticker(symbol).history(period='max', interval='1d').reset_index())\n",
    "            .with_columns(\n",
    "                Date=c('Date').dt.date(),\n",
    "                Symbol=pl.lit(symbol),\n",
    "            )\n",
    "        )\n",
    "        df.write_csv(fname)   # cache the data to prevent API throttling problems during experimentations\n",
    "    \n",
    "    return df.sort('Date', descending=False)"
   ]
  },
  {
   "cell_type": "code",
   "execution_count": 9,
   "id": "5f27a243-bbb6-489f-973b-0dcf18a64d38",
   "metadata": {},
   "outputs": [
    {
     "data": {
      "application/vnd.jupyter.widget-view+json": {
       "model_id": "b3c1d9874e2740a0b0ec8a4a94fdcb97",
       "version_major": 2,
       "version_minor": 0
      },
      "text/plain": [
       "  0%|          | 0/75 [00:00<?, ?it/s]"
      ]
     },
     "metadata": {},
     "output_type": "display_data"
    },
    {
     "data": {
      "text/html": [
       "<div><style>\n",
       ".dataframe > thead > tr,\n",
       ".dataframe > tbody > tr {\n",
       "  text-align: right;\n",
       "  white-space: pre-wrap;\n",
       "}\n",
       "</style>\n",
       "<small>shape: (23_021, 12)</small><table border=\"1\" class=\"dataframe\"><thead><tr><th>Date</th><th>Open</th><th>High</th><th>Low</th><th>Close</th><th>Volume</th><th>Dividends</th><th>Stock Splits</th><th>Symbol</th><th>growth_252d</th><th>volatility</th><th>Sharpe</th></tr><tr><td>date</td><td>f64</td><td>f64</td><td>f64</td><td>f64</td><td>i64</td><td>f64</td><td>f64</td><td>str</td><td>f64</td><td>f64</td><td>f64</td></tr></thead><tbody><tr><td>2024-02-07</td><td>12.09</td><td>12.47</td><td>11.88</td><td>12.43</td><td>12732800</td><td>0.00</td><td>0.00</td><td>&quot;AHR&quot;</td><td>null</td><td>null</td><td>null</td></tr><tr><td>2024-02-08</td><td>12.25</td><td>12.45</td><td>12.23</td><td>12.28</td><td>1630300</td><td>0.00</td><td>0.00</td><td>&quot;AHR&quot;</td><td>null</td><td>null</td><td>null</td></tr><tr><td>2024-02-09</td><td>12.24</td><td>12.65</td><td>12.18</td><td>12.34</td><td>2062100</td><td>0.00</td><td>0.00</td><td>&quot;AHR&quot;</td><td>null</td><td>null</td><td>null</td></tr><tr><td>2024-02-12</td><td>13.12</td><td>13.69</td><td>12.32</td><td>12.37</td><td>1161200</td><td>0.00</td><td>0.00</td><td>&quot;AHR&quot;</td><td>null</td><td>null</td><td>null</td></tr><tr><td>2024-02-13</td><td>12.37</td><td>12.75</td><td>12.24</td><td>12.56</td><td>1631700</td><td>0.00</td><td>0.00</td><td>&quot;AHR&quot;</td><td>null</td><td>null</td><td>null</td></tr><tr><td>&hellip;</td><td>&hellip;</td><td>&hellip;</td><td>&hellip;</td><td>&hellip;</td><td>&hellip;</td><td>&hellip;</td><td>&hellip;</td><td>&hellip;</td><td>&hellip;</td><td>&hellip;</td><td>&hellip;</td></tr><tr><td>2025-06-09</td><td>4.35</td><td>4.50</td><td>3.78</td><td>3.89</td><td>172500</td><td>0.00</td><td>0.00</td><td>&quot;ZONE&quot;</td><td>1.32</td><td>13.88</td><td>0.10</td></tr><tr><td>2025-06-10</td><td>3.90</td><td>3.95</td><td>3.61</td><td>3.79</td><td>79600</td><td>0.00</td><td>0.00</td><td>&quot;ZONE&quot;</td><td>1.23</td><td>14.60</td><td>0.08</td></tr><tr><td>2025-06-11</td><td>3.73</td><td>4.10</td><td>3.50</td><td>3.72</td><td>132300</td><td>0.00</td><td>0.00</td><td>&quot;ZONE&quot;</td><td>1.24</td><td>15.13</td><td>0.08</td></tr><tr><td>2025-06-12</td><td>3.80</td><td>3.80</td><td>3.51</td><td>3.59</td><td>179500</td><td>0.00</td><td>0.00</td><td>&quot;ZONE&quot;</td><td>1.16</td><td>15.46</td><td>0.07</td></tr><tr><td>2025-06-13</td><td>3.71</td><td>3.71</td><td>3.17</td><td>3.29</td><td>79800</td><td>0.00</td><td>0.00</td><td>&quot;ZONE&quot;</td><td>1.11</td><td>15.47</td><td>0.07</td></tr></tbody></table></div>"
      ],
      "text/plain": [
       "shape: (23_021, 12)\n",
       "┌────────────┬───────┬───────┬───────┬───┬────────┬─────────────┬────────────┬────────┐\n",
       "│ Date       ┆ Open  ┆ High  ┆ Low   ┆ … ┆ Symbol ┆ growth_252d ┆ volatility ┆ Sharpe │\n",
       "│ ---        ┆ ---   ┆ ---   ┆ ---   ┆   ┆ ---    ┆ ---         ┆ ---        ┆ ---    │\n",
       "│ date       ┆ f64   ┆ f64   ┆ f64   ┆   ┆ str    ┆ f64         ┆ f64        ┆ f64    │\n",
       "╞════════════╪═══════╪═══════╪═══════╪═══╪════════╪═════════════╪════════════╪════════╡\n",
       "│ 2024-02-07 ┆ 12.09 ┆ 12.47 ┆ 11.88 ┆ … ┆ AHR    ┆ null        ┆ null       ┆ null   │\n",
       "│ 2024-02-08 ┆ 12.25 ┆ 12.45 ┆ 12.23 ┆ … ┆ AHR    ┆ null        ┆ null       ┆ null   │\n",
       "│ 2024-02-09 ┆ 12.24 ┆ 12.65 ┆ 12.18 ┆ … ┆ AHR    ┆ null        ┆ null       ┆ null   │\n",
       "│ 2024-02-12 ┆ 13.12 ┆ 13.69 ┆ 12.32 ┆ … ┆ AHR    ┆ null        ┆ null       ┆ null   │\n",
       "│ 2024-02-13 ┆ 12.37 ┆ 12.75 ┆ 12.24 ┆ … ┆ AHR    ┆ null        ┆ null       ┆ null   │\n",
       "│ …          ┆ …     ┆ …     ┆ …     ┆ … ┆ …      ┆ …           ┆ …          ┆ …      │\n",
       "│ 2025-06-09 ┆ 4.35  ┆ 4.50  ┆ 3.78  ┆ … ┆ ZONE   ┆ 1.32        ┆ 13.88      ┆ 0.10   │\n",
       "│ 2025-06-10 ┆ 3.90  ┆ 3.95  ┆ 3.61  ┆ … ┆ ZONE   ┆ 1.23        ┆ 14.60      ┆ 0.08   │\n",
       "│ 2025-06-11 ┆ 3.73  ┆ 4.10  ┆ 3.50  ┆ … ┆ ZONE   ┆ 1.24        ┆ 15.13      ┆ 0.08   │\n",
       "│ 2025-06-12 ┆ 3.80  ┆ 3.80  ┆ 3.51  ┆ … ┆ ZONE   ┆ 1.16        ┆ 15.46      ┆ 0.07   │\n",
       "│ 2025-06-13 ┆ 3.71  ┆ 3.71  ┆ 3.17  ┆ … ┆ ZONE   ┆ 1.11        ┆ 15.47      ┆ 0.07   │\n",
       "└────────────┴───────┴───────┴───────┴───┴────────┴─────────────┴────────────┴────────┘"
      ]
     },
     "execution_count": 9,
     "metadata": {},
     "output_type": "execute_result"
    }
   ],
   "source": [
    "from tqdm.auto import tqdm\n",
    "import numpy as np\n",
    "\n",
    "ohlc_df = (\n",
    "    pl.concat([load_ohlc_history(symbol) for symbol in tqdm(df['Symbol'].to_list())])\n",
    "    .lazy()\n",
    "    .sort('Symbol', 'Date')\n",
    "    .with_columns(\n",
    "        Date=c('Date').dt.date(),\n",
    "        growth_252d=c('Close').over('Symbol') / c('Close').shift(252).over('Symbol'),\n",
    "        volatility=c('Close').rolling_std(30) * np.sqrt(252),\n",
    "    )\n",
    "    .with_columns(\n",
    "        Sharpe=c('growth_252d') / c('volatility')\n",
    "    )\n",
    ").collect()\n",
    "ohlc_df"
   ]
  },
  {
   "cell_type": "code",
   "execution_count": 10,
   "id": "a155a89f-ecf2-41fb-9084-2efe089ed097",
   "metadata": {},
   "outputs": [
    {
     "data": {
      "text/html": [
       "<div><style>\n",
       ".dataframe > thead > tr,\n",
       ".dataframe > tbody > tr {\n",
       "  text-align: right;\n",
       "  white-space: pre-wrap;\n",
       "}\n",
       "</style>\n",
       "<small>shape: (4, 2)</small><table border=\"1\" class=\"dataframe\"><thead><tr><th>Measure</th><th>column_0</th></tr><tr><td>str</td><td>f64</td></tr></thead><tbody><tr><td>&quot;growth_252d_median&quot;</td><td>0.76</td></tr><tr><td>&quot;non_null_growth_252d&quot;</td><td>75.00</td></tr><tr><td>&quot;non_nan_growth_252d&quot;</td><td>71.00</td></tr><tr><td>&quot;sharpe_median&quot;</td><td>0.10</td></tr></tbody></table></div>"
      ],
      "text/plain": [
       "shape: (4, 2)\n",
       "┌──────────────────────┬──────────┐\n",
       "│ Measure              ┆ column_0 │\n",
       "│ ---                  ┆ ---      │\n",
       "│ str                  ┆ f64      │\n",
       "╞══════════════════════╪══════════╡\n",
       "│ growth_252d_median   ┆ 0.76     │\n",
       "│ non_null_growth_252d ┆ 75.00    │\n",
       "│ non_nan_growth_252d  ┆ 71.00    │\n",
       "│ sharpe_median        ┆ 0.10     │\n",
       "└──────────────────────┴──────────┘"
      ]
     },
     "execution_count": 10,
     "metadata": {},
     "output_type": "execute_result"
    }
   ],
   "source": [
    "(\n",
    "    ohlc_df.filter(c('Date') == date(2025, 6, 6))\n",
    "    .select(\n",
    "        growth_252d_median=c('growth_252d').median(),\n",
    "        non_null_growth_252d=c('growth_252d').is_not_null().count(),\n",
    "        non_nan_growth_252d=c('growth_252d').is_not_nan().count(),\n",
    "        sharpe_median=c('Sharpe').median(),\n",
    "    )\n",
    ").transpose(include_header=True, header_name='Measure')"
   ]
  }
 ],
 "metadata": {
  "kernelspec": {
   "display_name": "Python 3 (ipykernel)",
   "language": "python",
   "name": "python3"
  },
  "language_info": {
   "codemirror_mode": {
    "name": "ipython",
    "version": 3
   },
   "file_extension": ".py",
   "mimetype": "text/x-python",
   "name": "python",
   "nbconvert_exporter": "python",
   "pygments_lexer": "ipython3",
   "version": "3.13.2"
  }
 },
 "nbformat": 4,
 "nbformat_minor": 5
}
