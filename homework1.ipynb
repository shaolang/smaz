{
 "cells": [
  {
   "cell_type": "markdown",
   "id": "6091ed59-1f1d-4da7-ae89-daf569fe2e76",
   "metadata": {},
   "source": [
    "# Question 1: [Index] S&P 500 Stocks Added to the Index\n",
    "\n",
    "Which year had the highest number of additions?\n",
    "\n",
    "Using the list of S&P 500 companies from Wikipedia's [S&P 500 companies page][wiki-page], download the data including the year each company was added to the index.\n",
    "\n",
    "- Create a DataFrame with company tickers, names, and the year they were added.\n",
    "- Extract the year from the addition date and calculate the number of stocks added each year.\n",
    "- Which year had the highest number of additions (1957 doesn't count, as it was the year when the S&P 500 index was founded)? Write down this year as your answer (the most recent one, if you have several records).\n",
    "\n",
    "Context:\n",
    "\n",
    ">\" Following the announcement, all four new entrants saw their stock prices rise in extended trading on Friday\" - recent examples of S&P 500 additions include DASH, WSM, EXE, TKO in 2025 ([Nasdaq article][nasdaq-article]).\n",
    "\n",
    "Additional: How many current S&P 500 stocks have been in the index for more than 20 years? When stocks are added to the S&P 500, they usually experience a price bump as investors and index funds buy shares following the announcement.\n",
    "\n",
    "[wiki-page]: https://en.wikipedia.org/wiki/List_of_S%26P_500_companies\n",
    "[nasdaq-article]: https://www.nasdaq.com/articles/sp-500-reshuffle-dash-tko-expe-wsm-join-worth-buying"
   ]
  },
  {
   "cell_type": "code",
   "execution_count": 1,
   "id": "a192db7d-9abc-49fb-83ff-665d9fa53f91",
   "metadata": {},
   "outputs": [
    {
     "data": {
      "text/html": [
       "<div><style>\n",
       ".dataframe > thead > tr,\n",
       ".dataframe > tbody > tr {\n",
       "  text-align: right;\n",
       "  white-space: pre-wrap;\n",
       "}\n",
       "</style>\n",
       "<small>shape: (5, 3)</small><table border=\"1\" class=\"dataframe\"><thead><tr><th>symbol</th><th>security</th><th>year</th></tr><tr><td>str</td><td>str</td><td>i32</td></tr></thead><tbody><tr><td>&quot;MMM&quot;</td><td>&quot;3M&quot;</td><td>1957</td></tr><tr><td>&quot;AOS&quot;</td><td>&quot;A. O. Smith&quot;</td><td>2017</td></tr><tr><td>&quot;ABT&quot;</td><td>&quot;Abbott Laboratories&quot;</td><td>1957</td></tr><tr><td>&quot;ABBV&quot;</td><td>&quot;AbbVie&quot;</td><td>2012</td></tr><tr><td>&quot;ACN&quot;</td><td>&quot;Accenture&quot;</td><td>2011</td></tr></tbody></table></div>"
      ],
      "text/plain": [
       "shape: (5, 3)\n",
       "┌────────┬─────────────────────┬──────┐\n",
       "│ symbol ┆ security            ┆ year │\n",
       "│ ---    ┆ ---                 ┆ ---  │\n",
       "│ str    ┆ str                 ┆ i32  │\n",
       "╞════════╪═════════════════════╪══════╡\n",
       "│ MMM    ┆ 3M                  ┆ 1957 │\n",
       "│ AOS    ┆ A. O. Smith         ┆ 2017 │\n",
       "│ ABT    ┆ Abbott Laboratories ┆ 1957 │\n",
       "│ ABBV   ┆ AbbVie              ┆ 2012 │\n",
       "│ ACN    ┆ Accenture           ┆ 2011 │\n",
       "└────────┴─────────────────────┴──────┘"
      ]
     },
     "execution_count": 1,
     "metadata": {},
     "output_type": "execute_result"
    }
   ],
   "source": [
    "from bs4 import BeautifulSoup\n",
    "from datetime import date\n",
    "from polars import col as c\n",
    "import polars as pl\n",
    "import requests as r\n",
    "\n",
    "resp = r.get('https://en.wikipedia.org/wiki/List_of_S%26P_500_companies')\n",
    "doc = BeautifulSoup(resp.content, 'html.parser')\n",
    "table = doc.find_all(id='constituents')[0]\n",
    "headers = [str(h.get_text().strip()).lower() for h in table.find_all(name='th')]\n",
    "rows = [\n",
    "    [str(cell.get_text().strip()) for cell in row.find_all(name='td')]\n",
    "    for row in table.find_all(name='tr')[1:]   # for some strange reasons, header row (tr > th) is the first row in  <tbody>\n",
    "]\n",
    "df = pl.DataFrame([dict(zip(headers, row)) for row in rows]).with_columns(\n",
    "    year=c(\"date added\").str.strptime(pl.Date, \"%Y-%m-%d\").dt.year()\n",
    ").select('symbol', 'security', 'year')\n",
    "df.head()"
   ]
  },
  {
   "cell_type": "code",
   "execution_count": 2,
   "id": "81bc34de-8cfd-4c2d-b642-2ccbea8d79bd",
   "metadata": {},
   "outputs": [
    {
     "data": {
      "text/html": [
       "<div><style>\n",
       ".dataframe > thead > tr,\n",
       ".dataframe > tbody > tr {\n",
       "  text-align: right;\n",
       "  white-space: pre-wrap;\n",
       "}\n",
       "</style>\n",
       "<small>shape: (5, 2)</small><table border=\"1\" class=\"dataframe\"><thead><tr><th>year</th><th>num_additions</th></tr><tr><td>i32</td><td>u32</td></tr></thead><tbody><tr><td>2017</td><td>23</td></tr><tr><td>2016</td><td>23</td></tr><tr><td>2019</td><td>22</td></tr><tr><td>2008</td><td>17</td></tr><tr><td>2024</td><td>16</td></tr></tbody></table></div>"
      ],
      "text/plain": [
       "shape: (5, 2)\n",
       "┌──────┬───────────────┐\n",
       "│ year ┆ num_additions │\n",
       "│ ---  ┆ ---           │\n",
       "│ i32  ┆ u32           │\n",
       "╞══════╪═══════════════╡\n",
       "│ 2017 ┆ 23            │\n",
       "│ 2016 ┆ 23            │\n",
       "│ 2019 ┆ 22            │\n",
       "│ 2008 ┆ 17            │\n",
       "│ 2024 ┆ 16            │\n",
       "└──────┴───────────────┘"
      ]
     },
     "execution_count": 2,
     "metadata": {},
     "output_type": "execute_result"
    }
   ],
   "source": [
    "df.group_by('year').agg(\n",
    "    num_additions=pl.first().filter(c('year') != 1957).count()\n",
    ").sort(['num_additions', 'year'], descending=True).head()"
   ]
  },
  {
   "cell_type": "markdown",
   "id": "2937daf2-1167-4ea3-90de-b6c8e55da8ff",
   "metadata": {},
   "source": [
    "For simplicity, only the (extracted) year component used to determine whether the company is on S&P 500 for more than 20 years."
   ]
  },
  {
   "cell_type": "code",
   "execution_count": 3,
   "id": "68c18d60-9f52-4f1d-ba87-c82d8c3c57db",
   "metadata": {},
   "outputs": [
    {
     "data": {
      "text/plain": [
       "219"
      ]
     },
     "execution_count": 3,
     "metadata": {},
     "output_type": "execute_result"
    }
   ],
   "source": [
    "df.filter(c('year') + 20 < date.today().year).select(pl.first().count()).item(0, 0)"
   ]
  }
 ],
 "metadata": {
  "kernelspec": {
   "display_name": "Python 3 (ipykernel)",
   "language": "python",
   "name": "python3"
  },
  "language_info": {
   "codemirror_mode": {
    "name": "ipython",
    "version": 3
   },
   "file_extension": ".py",
   "mimetype": "text/x-python",
   "name": "python",
   "nbconvert_exporter": "python",
   "pygments_lexer": "ipython3",
   "version": "3.12.10"
  }
 },
 "nbformat": 4,
 "nbformat_minor": 5
}
