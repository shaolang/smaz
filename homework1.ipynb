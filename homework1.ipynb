{
 "cells": [
  {
   "cell_type": "markdown",
   "id": "6091ed59-1f1d-4da7-ae89-daf569fe2e76",
   "metadata": {},
   "source": [
    "# Question 1: [Index] S&P 500 Stocks Added to the Index\n",
    "\n",
    "Which year had the highest number of additions?\n",
    "\n",
    "Using the list of S&P 500 companies from Wikipedia's [S&P 500 companies page][wiki-page], download the data including the year each company was added to the index.\n",
    "\n",
    "- Create a DataFrame with company tickers, names, and the year they were added.\n",
    "- Extract the year from the addition date and calculate the number of stocks added each year.\n",
    "- Which year had the highest number of additions (1957 doesn't count, as it was the year when the S&P 500 index was founded)? Write down this year as your answer (the most recent one, if you have several records).\n",
    "\n",
    "Context:\n",
    "\n",
    ">\" Following the announcement, all four new entrants saw their stock prices rise in extended trading on Friday\" - recent examples of S&P 500 additions include DASH, WSM, EXE, TKO in 2025 ([Nasdaq article][nasdaq-article]).\n",
    "\n",
    "Additional: How many current S&P 500 stocks have been in the index for more than 20 years? When stocks are added to the S&P 500, they usually experience a price bump as investors and index funds buy shares following the announcement.\n",
    "\n",
    "[wiki-page]: https://en.wikipedia.org/wiki/List_of_S%26P_500_companies\n",
    "[nasdaq-article]: https://www.nasdaq.com/articles/sp-500-reshuffle-dash-tko-expe-wsm-join-worth-buying"
   ]
  },
  {
   "cell_type": "code",
   "execution_count": 1,
   "id": "a192db7d-9abc-49fb-83ff-665d9fa53f91",
   "metadata": {},
   "outputs": [
    {
     "data": {
      "text/html": [
       "<div><style>\n",
       ".dataframe > thead > tr,\n",
       ".dataframe > tbody > tr {\n",
       "  text-align: right;\n",
       "  white-space: pre-wrap;\n",
       "}\n",
       "</style>\n",
       "<small>shape: (5, 3)</small><table border=\"1\" class=\"dataframe\"><thead><tr><th>symbol</th><th>security</th><th>year</th></tr><tr><td>str</td><td>str</td><td>i32</td></tr></thead><tbody><tr><td>&quot;MMM&quot;</td><td>&quot;3M&quot;</td><td>1957</td></tr><tr><td>&quot;AOS&quot;</td><td>&quot;A. O. Smith&quot;</td><td>2017</td></tr><tr><td>&quot;ABT&quot;</td><td>&quot;Abbott Laboratories&quot;</td><td>1957</td></tr><tr><td>&quot;ABBV&quot;</td><td>&quot;AbbVie&quot;</td><td>2012</td></tr><tr><td>&quot;ACN&quot;</td><td>&quot;Accenture&quot;</td><td>2011</td></tr></tbody></table></div>"
      ],
      "text/plain": [
       "shape: (5, 3)\n",
       "┌────────┬─────────────────────┬──────┐\n",
       "│ symbol ┆ security            ┆ year │\n",
       "│ ---    ┆ ---                 ┆ ---  │\n",
       "│ str    ┆ str                 ┆ i32  │\n",
       "╞════════╪═════════════════════╪══════╡\n",
       "│ MMM    ┆ 3M                  ┆ 1957 │\n",
       "│ AOS    ┆ A. O. Smith         ┆ 2017 │\n",
       "│ ABT    ┆ Abbott Laboratories ┆ 1957 │\n",
       "│ ABBV   ┆ AbbVie              ┆ 2012 │\n",
       "│ ACN    ┆ Accenture           ┆ 2011 │\n",
       "└────────┴─────────────────────┴──────┘"
      ]
     },
     "execution_count": 1,
     "metadata": {},
     "output_type": "execute_result"
    }
   ],
   "source": [
    "from bs4 import BeautifulSoup\n",
    "from datetime import date\n",
    "from polars import col as c\n",
    "import polars as pl\n",
    "import requests as r\n",
    "\n",
    "resp = r.get('https://en.wikipedia.org/wiki/List_of_S%26P_500_companies')\n",
    "doc = BeautifulSoup(resp.content, 'html.parser')\n",
    "table = doc.find_all(id='constituents')[0]\n",
    "headers = [str(h.get_text().strip()).lower() for h in table.find_all(name='th')]\n",
    "rows = [\n",
    "    [str(cell.get_text().strip()) for cell in row.find_all(name='td')]\n",
    "    for row in table.find_all(name='tr')[1:]   # for some strange reasons, header row (tr > th) is the first row in  <tbody>\n",
    "]\n",
    "df = pl.DataFrame([dict(zip(headers, row)) for row in rows]).with_columns(\n",
    "    year=c(\"date added\").str.strptime(pl.Date, \"%Y-%m-%d\").dt.year()\n",
    ").select('symbol', 'security', 'year')\n",
    "df.head()"
   ]
  },
  {
   "cell_type": "code",
   "execution_count": 2,
   "id": "81bc34de-8cfd-4c2d-b642-2ccbea8d79bd",
   "metadata": {},
   "outputs": [
    {
     "data": {
      "text/html": [
       "<div><style>\n",
       ".dataframe > thead > tr,\n",
       ".dataframe > tbody > tr {\n",
       "  text-align: right;\n",
       "  white-space: pre-wrap;\n",
       "}\n",
       "</style>\n",
       "<small>shape: (5, 2)</small><table border=\"1\" class=\"dataframe\"><thead><tr><th>year</th><th>num_additions</th></tr><tr><td>i32</td><td>u32</td></tr></thead><tbody><tr><td>2017</td><td>23</td></tr><tr><td>2016</td><td>23</td></tr><tr><td>2019</td><td>22</td></tr><tr><td>2008</td><td>17</td></tr><tr><td>2024</td><td>16</td></tr></tbody></table></div>"
      ],
      "text/plain": [
       "shape: (5, 2)\n",
       "┌──────┬───────────────┐\n",
       "│ year ┆ num_additions │\n",
       "│ ---  ┆ ---           │\n",
       "│ i32  ┆ u32           │\n",
       "╞══════╪═══════════════╡\n",
       "│ 2017 ┆ 23            │\n",
       "│ 2016 ┆ 23            │\n",
       "│ 2019 ┆ 22            │\n",
       "│ 2008 ┆ 17            │\n",
       "│ 2024 ┆ 16            │\n",
       "└──────┴───────────────┘"
      ]
     },
     "execution_count": 2,
     "metadata": {},
     "output_type": "execute_result"
    }
   ],
   "source": [
    "df.group_by('year').agg(\n",
    "    num_additions=pl.first().filter(c('year') != 1957).count()\n",
    ").sort(['num_additions', 'year'], descending=True).head()"
   ]
  },
  {
   "cell_type": "markdown",
   "id": "2937daf2-1167-4ea3-90de-b6c8e55da8ff",
   "metadata": {},
   "source": [
    "For simplicity, only the (extracted) year component used to determine whether the company is on S&P 500 for more than 20 years."
   ]
  },
  {
   "cell_type": "code",
   "execution_count": 3,
   "id": "68c18d60-9f52-4f1d-ba87-c82d8c3c57db",
   "metadata": {},
   "outputs": [
    {
     "data": {
      "text/plain": [
       "219"
      ]
     },
     "execution_count": 3,
     "metadata": {},
     "output_type": "execute_result"
    }
   ],
   "source": [
    "df.filter(c('year') + 20 < date.today().year).select(pl.first().count()).item(0, 0)"
   ]
  },
  {
   "cell_type": "markdown",
   "id": "10a5e4df-d3f1-4ca8-8d5f-c2f1813ce0c8",
   "metadata": {},
   "source": [
    "# Question 2. [Macro] Indexes YTD (as of 1 May 2025)\n",
    "\n",
    "How many indexes (out of 10) have better year-to-date returns than the US (S&P 500) as of May 1, 2025?\n",
    "\n",
    "Using Yahoo Finance World Indices data, compare the year-to-date (YTD) performance (1 January-1 May 2025) of major stock market indexes for the following countries:\n",
    "\n",
    "- United States - S&P 500 (^GSPC)\n",
    "- China - Shanghai Composite (000001.SS)\n",
    "- Hong Kong - HANG SENG INDEX (^HSI)\n",
    "- Australia - S&P/ASX 200 (^AXJO)\n",
    "- India - Nifty 50 (^NSEI)\n",
    "- Canada - S&P/TSX Composite (^GSPTSE)\n",
    "- Germany - DAX (^GDAXI)\n",
    "- United Kingdom - FTSE 100 (^FTSE)\n",
    "- Japan - Nikkei 225 (^N225)\n",
    "- Mexico - IPC Mexico (^MXX)\n",
    "- Brazil - Ibovespa (^BVSP)\n",
    "\n",
    "Hint: use `start_date='2025-01-01'` and `end_date='2025-05-01'` when downloading daily data in yfinance\n",
    "\n",
    "Context:\n",
    "\n",
    "> [Global Valuations: Who's Cheap][global-valuations], Who's Not? article suggests \"Other regions may be growing faster than the US and you need to diversify.\"\n",
    "\n",
    "Reference: Yahoo Finance World Indices - https://finance.yahoo.com/world-indices/\n",
    "\n",
    "Additional: How many of these indexes have better returns than the S&P 500 over 3, 5, and 10 year periods? Do you see the same trend? Note: For simplicity, ignore currency conversion effects.)\n",
    "\n",
    "[global-valuations]: https://simplywall.st/article/beyond-the-us-global-markets-after-yet-another-tariff-update"
   ]
  },
  {
   "cell_type": "code",
   "execution_count": 4,
   "id": "b1830f28-21d7-470d-b840-941974355460",
   "metadata": {},
   "outputs": [],
   "source": [
    "import yfinance as yf\n",
    "from pathlib import Path\n",
    "\n",
    "def load_index(index: str, start='2025-01-01', end='2025-05-01') -> pl.DataFrame:\n",
    "    fname = Path.cwd() / f\"{index[1:] if index.startswith('^') else index}-{start}-{end}.csv\".lower()\n",
    "    \n",
    "    if fname.exists():\n",
    "        df = pl.read_csv(fname).with_columns(Date=c('Date').str.slice(0, 10).str.strptime(pl.Date, '%Y-%m-%d'))\n",
    "    else:\n",
    "        df = pl.DataFrame(yf.Ticker(index).history(start=start, end=end).reset_index())\n",
    "        df.write_csv(fname)   # cache the data to prevent API throttling problems during experimentations\n",
    "    \n",
    "    return df.sort('Date', descending=False)\n",
    "\n",
    "def calculate_ytd_performance(df: pl.DataFrame) -> float:\n",
    "    return df['Close'].item(-1) / df['Close'].item(0) - 1"
   ]
  },
  {
   "cell_type": "markdown",
   "id": "5fe5ee0e-fb8a-411b-96f8-76bf26cac352",
   "metadata": {},
   "source": [
    "Let's get the YTD performances for each index:"
   ]
  },
  {
   "cell_type": "code",
   "execution_count": 5,
   "id": "1c9ec6e6-3c0f-4740-a3e1-cda999fd9efe",
   "metadata": {},
   "outputs": [
    {
     "data": {
      "text/html": [
       "<div><style>\n",
       ".dataframe > thead > tr,\n",
       ".dataframe > tbody > tr {\n",
       "  text-align: right;\n",
       "  white-space: pre-wrap;\n",
       "}\n",
       "</style>\n",
       "<small>shape: (11, 2)</small><table border=\"1\" class=\"dataframe\"><thead><tr><th>index</th><th>ytd-perf</th></tr><tr><td>str</td><td>f64</td></tr></thead><tbody><tr><td>&quot;Mexico - IPC Mexico&quot;</td><td>0.130494</td></tr><tr><td>&quot;Hong Kong - HANG SENG INDEX&quot;</td><td>0.1272</td></tr><tr><td>&quot;Brazil - Ibovespa&quot;</td><td>0.124387</td></tr><tr><td>&quot;Germany - DAX&quot;</td><td>0.123464</td></tr><tr><td>&quot;United Kingdom - FTSE 100&quot;</td><td>0.028426</td></tr><tr><td>&hellip;</td><td>&hellip;</td></tr><tr><td>&quot;China - Shanghai Composite&quot;</td><td>0.005048</td></tr><tr><td>&quot;Canada - S&amp;P/TSX Composite&quot;</td><td>-0.002261</td></tr><tr><td>&quot;Australia - S&amp;P/ASX 200&quot;</td><td>-0.009145</td></tr><tr><td>&quot;United States - S&amp;P 500&quot;</td><td>-0.051033</td></tr><tr><td>&quot;Japan - Nikkei 225&quot;</td><td>-0.082979</td></tr></tbody></table></div>"
      ],
      "text/plain": [
       "shape: (11, 2)\n",
       "┌─────────────────────────────┬───────────┐\n",
       "│ index                       ┆ ytd-perf  │\n",
       "│ ---                         ┆ ---       │\n",
       "│ str                         ┆ f64       │\n",
       "╞═════════════════════════════╪═══════════╡\n",
       "│ Mexico - IPC Mexico         ┆ 0.130494  │\n",
       "│ Hong Kong - HANG SENG INDEX ┆ 0.1272    │\n",
       "│ Brazil - Ibovespa           ┆ 0.124387  │\n",
       "│ Germany - DAX               ┆ 0.123464  │\n",
       "│ United Kingdom - FTSE 100   ┆ 0.028426  │\n",
       "│ …                           ┆ …         │\n",
       "│ China - Shanghai Composite  ┆ 0.005048  │\n",
       "│ Canada - S&P/TSX Composite  ┆ -0.002261 │\n",
       "│ Australia - S&P/ASX 200     ┆ -0.009145 │\n",
       "│ United States - S&P 500     ┆ -0.051033 │\n",
       "│ Japan - Nikkei 225          ┆ -0.082979 │\n",
       "└─────────────────────────────┴───────────┘"
      ]
     },
     "execution_count": 5,
     "metadata": {},
     "output_type": "execute_result"
    }
   ],
   "source": [
    "indices = {\n",
    "    'United States - S&P 500': '^GSPC',\n",
    "    'China - Shanghai Composite': '000001.SS',\n",
    "    'Hong Kong - HANG SENG INDEX': '^HSI',\n",
    "    'Australia - S&P/ASX 200': '^AXJO',\n",
    "    'India - Nifty 50': '^NSEI',\n",
    "    'Canada - S&P/TSX Composite': '^GSPTSE',\n",
    "    'Germany - DAX': '^GDAXI',\n",
    "    'United Kingdom - FTSE 100': '^FTSE',\n",
    "    'Japan - Nikkei 225': '^N225',\n",
    "    'Mexico - IPC Mexico': '^MXX',\n",
    "    'Brazil - Ibovespa': '^BVSP'\n",
    "}\n",
    "\n",
    "df = pl.DataFrame([\n",
    "    {'index': k, 'ytd-perf': calculate_ytd_performance(load_index(v))}\n",
    "    for k, v in indices.items()\n",
    "])\n",
    "df.sort('ytd-perf', descending=True)"
   ]
  },
  {
   "cell_type": "markdown",
   "id": "0807144d-db91-4a75-97ea-017187bbe136",
   "metadata": {},
   "source": [
    "Then retrieve S&P 500's performance:"
   ]
  },
  {
   "cell_type": "code",
   "execution_count": 6,
   "id": "c9a4b7f2-9eb7-4fb2-bbc6-75a811cf4558",
   "metadata": {},
   "outputs": [
    {
     "data": {
      "text/plain": [
       "-0.05103300748245043"
      ]
     },
     "execution_count": 6,
     "metadata": {},
     "output_type": "execute_result"
    }
   ],
   "source": [
    "sp = 'United States - S&P 500'\n",
    "sp_perf = df.filter(c('index') == sp).item(0, 1)\n",
    "sp_perf"
   ]
  },
  {
   "cell_type": "markdown",
   "id": "a9ea54e6-bb02-4047-ab36-77999a2f0c30",
   "metadata": {},
   "source": [
    "And finally, count the number of records in the dataframe that's filtered indices with better YTD performance: "
   ]
  },
  {
   "cell_type": "code",
   "execution_count": 7,
   "id": "e00ac105-c880-4837-bcc9-8158d543d436",
   "metadata": {},
   "outputs": [
    {
     "data": {
      "text/plain": [
       "9"
      ]
     },
     "execution_count": 7,
     "metadata": {},
     "output_type": "execute_result"
    }
   ],
   "source": [
    "df.filter((c('index') != sp) & (c('ytd-perf') > sp_perf)).select(pl.first().count()).item(0, 0)"
   ]
  },
  {
   "cell_type": "markdown",
   "id": "4abcd079-fce1-4bd0-8567-b8dfbf4caea9",
   "metadata": {},
   "source": [
    "# Question 3. [Index] S&P 500 Market Corrections Analysis\n",
    "\n",
    "Calculate the median duration (in days) of significant market corrections in the S&P 500 index.\n",
    "\n",
    "For this task, define a correction as an event when a stock index goes down by more than 5% from the closest all-time high maximum.\n",
    "\n",
    "Steps:\n",
    "\n",
    "1. Download S&P 500 historical data (1950-present) using yfinance\n",
    "2. Identify all-time high points (where price exceeds all previous prices)\n",
    "3. For each pair of consecutive all-time highs, find the minimum price in between\n",
    "4. Calculate drawdown percentages: (high - low) / high × 100\n",
    "5. Filter for corrections with at least 5% drawdown\n",
    "6. Calculate the duration in days for each correction period\n",
    "7. Determine the 25th, 50th (median), and 75th percentiles for correction durations\n",
    "\n",
    "Context:\n",
    "\n",
    "> * Investors often wonder about the typical length of market corrections when deciding \"when to buy the dip\" ([Reddit discussion][reddit]).\n",
    "> * [A Wealth of Common Sense - How Often Should You Expect a Stock Market Correction?][wealth-cs]\n",
    "\n",
    "Hint (use this data to compare with your results): Here is the list of top 10 largest corrections by drawdown:\n",
    "\n",
    "- 2007-10-09 to 2009-03-09: 56.8% drawdown over 517 days\n",
    "- 2000-03-24 to 2002-10-09: 49.1% drawdown over 929 days\n",
    "- 1973-01-11 to 1974-10-03: 48.2% drawdown over 630 days\n",
    "- 1968-11-29 to 1970-05-26: 36.1% drawdown over 543 days\n",
    "- 2020-02-19 to 2020-03-23: 33.9% drawdown over 33 days\n",
    "- 1987-08-25 to 1987-12-04: 33.5% drawdown over 101 days\n",
    "- 1961-12-12 to 1962-06-26: 28.0% drawdown over 196 days\n",
    "- 1980-11-28 to 1982-08-12: 27.1% drawdown over 622 days\n",
    "- 2022-01-03 to 2022-10-12: 25.4% drawdown over 282 days\n",
    "- 1966-02-09 to 1966-10-07: 22.2% drawdown over 240 days\n",
    "\n",
    "[reddit]: https://www.reddit.com/r/investing/comments/1jrqnte/when_are_you_buying_the_dip/?rdt=64135\n",
    "[wealth-cs]: https://awealthofcommonsense.com/2022/01/how-often-should-you-expect-a-stock-market-correction/"
   ]
  },
  {
   "cell_type": "code",
   "execution_count": 8,
   "id": "eac3464d-98b1-433a-b6d9-ddcad520de32",
   "metadata": {},
   "outputs": [
    {
     "data": {
      "text/html": [
       "<div><style>\n",
       ".dataframe > thead > tr,\n",
       ".dataframe > tbody > tr {\n",
       "  text-align: right;\n",
       "  white-space: pre-wrap;\n",
       "}\n",
       "</style>\n",
       "<small>shape: (18_974, 2)</small><table border=\"1\" class=\"dataframe\"><thead><tr><th>Date</th><th>Close</th></tr><tr><td>date</td><td>f64</td></tr></thead><tbody><tr><td>1950-01-03</td><td>16.66</td></tr><tr><td>1950-01-04</td><td>16.85</td></tr><tr><td>1950-01-05</td><td>16.93</td></tr><tr><td>1950-01-06</td><td>16.98</td></tr><tr><td>1950-01-09</td><td>17.08</td></tr><tr><td>&hellip;</td><td>&hellip;</td></tr><tr><td>2025-05-27</td><td>5921.540039</td></tr><tr><td>2025-05-28</td><td>5888.549805</td></tr><tr><td>2025-05-29</td><td>5912.169922</td></tr><tr><td>2025-05-30</td><td>5911.689941</td></tr><tr><td>2025-06-02</td><td>5935.939941</td></tr></tbody></table></div>"
      ],
      "text/plain": [
       "shape: (18_974, 2)\n",
       "┌────────────┬─────────────┐\n",
       "│ Date       ┆ Close       │\n",
       "│ ---        ┆ ---         │\n",
       "│ date       ┆ f64         │\n",
       "╞════════════╪═════════════╡\n",
       "│ 1950-01-03 ┆ 16.66       │\n",
       "│ 1950-01-04 ┆ 16.85       │\n",
       "│ 1950-01-05 ┆ 16.93       │\n",
       "│ 1950-01-06 ┆ 16.98       │\n",
       "│ 1950-01-09 ┆ 17.08       │\n",
       "│ …          ┆ …           │\n",
       "│ 2025-05-27 ┆ 5921.540039 │\n",
       "│ 2025-05-28 ┆ 5888.549805 │\n",
       "│ 2025-05-29 ┆ 5912.169922 │\n",
       "│ 2025-05-30 ┆ 5911.689941 │\n",
       "│ 2025-06-02 ┆ 5935.939941 │\n",
       "└────────────┴─────────────┘"
      ]
     },
     "execution_count": 8,
     "metadata": {},
     "output_type": "execute_result"
    }
   ],
   "source": [
    "from datetime import date\n",
    "\n",
    "df = (\n",
    "    load_index('^GSPC', start='1950-01-01', end=str(date.today()))\n",
    ").select('Date', 'Close')\n",
    "df"
   ]
  },
  {
   "cell_type": "markdown",
   "id": "51d019f0-8ce2-43c8-990d-09da0b30c394",
   "metadata": {},
   "source": [
    "Let's visualize the data:"
   ]
  },
  {
   "cell_type": "code",
   "execution_count": 9,
   "id": "73aaba62-0632-46f3-8675-00c9271ec273",
   "metadata": {},
   "outputs": [
    {
     "data": {
      "image/png": "[encoded data removed]",
      "text/plain": [
       "<Figure size 1500x600 with 1 Axes>"
      ]
     },
     "metadata": {},
     "output_type": "display_data"
    }
   ],
   "source": [
    "import matplotlib.pyplot as plt\n",
    "\n",
    "plt.figure(figsize=(15, 6))\n",
    "plt.plot(df['Date'], df['Close']);"
   ]
  },
  {
   "cell_type": "markdown",
   "id": "44a19b78-5f09-4f4c-98be-30f4edb8849e",
   "metadata": {},
   "source": [
    "The line seems relatively flat before 1990; this is likely due to the smallish values for that period.\n",
    "Let's \"zoom\" in to that period:"
   ]
  },
  {
   "cell_type": "code",
   "execution_count": 10,
   "id": "ea2a2cd9-a21e-48e3-82e6-802917b1af66",
   "metadata": {},
   "outputs": [
    {
     "data": {
      "image/png": "[encoded data removed]",
      "text/plain": [
       "<Figure size 1500x600 with 1 Axes>"
      ]
     },
     "metadata": {},
     "output_type": "display_data"
    }
   ],
   "source": [
    "plt.figure(figsize=(15, 6))\n",
    "pred = c('Date') < date(1990, 12, 31)\n",
    "plt.plot(df.filter(pred)['Date'], df.filter(pred)['Close']);"
   ]
  },
  {
   "cell_type": "markdown",
   "id": "aa0d622f-c678-460e-b9a0-26dbfa25ab31",
   "metadata": {},
   "source": [
    "As expected, between 1950 and 1990, there too were corrections."
   ]
  },
  {
   "cell_type": "code",
   "execution_count": 11,
   "id": "b19e9357-eeeb-42b4-a6b1-0ebc8d7d26ab",
   "metadata": {},
   "outputs": [
    {
     "data": {
      "text/html": [
       "<div><style>\n",
       ".dataframe > thead > tr,\n",
       ".dataframe > tbody > tr {\n",
       "  text-align: right;\n",
       "  white-space: pre-wrap;\n",
       "}\n",
       "</style>\n",
       "<small>shape: (1, 1)</small><table border=\"1\" class=\"dataframe\"><thead><tr><th>duration</th></tr><tr><td>f64</td></tr></thead><tbody><tr><td>40.5</td></tr></tbody></table></div>"
      ],
      "text/plain": [
       "shape: (1, 1)\n",
       "┌──────────┐\n",
       "│ duration │\n",
       "│ ---      │\n",
       "│ f64      │\n",
       "╞══════════╡\n",
       "│ 40.5     │\n",
       "└──────────┘"
      ]
     },
     "execution_count": 11,
     "metadata": {},
     "output_type": "execute_result"
    }
   ],
   "source": [
    "(\n",
    "    df.with_columns(peak=c('Close').cum_max())\n",
    "    .group_by('peak')\n",
    "    .agg(\n",
    "        low=c('Close').min(),\n",
    "        start_date=c('Date').first().dt.date(),\n",
    "        low_date=(c('Date').filter(c('Close').min() == c('Close')).first()).dt.date(),\n",
    "    )\n",
    "    .with_columns(\n",
    "        drawdown=(c('peak') - c('low')) / c('peak') * 100,\n",
    "        duration=(c('low_date') - c('start_date')).dt.total_days(),\n",
    "    )\n",
    "    .filter(c('drawdown') >= 5)\n",
    "    .sort('drawdown', descending=True)\n",
    ").select(c('duration').median())"
   ]
  },
  {
   "cell_type": "code",
   "execution_count": null,
   "id": "5678c950-d584-4569-899d-4c1cb07528dc",
   "metadata": {},
   "outputs": [],
   "source": []
  }
 ],
 "metadata": {
  "kernelspec": {
   "display_name": "Python 3 (ipykernel)",
   "language": "python",
   "name": "python3"
  },
  "language_info": {
   "codemirror_mode": {
    "name": "ipython",
    "version": 3
   },
   "file_extension": ".py",
   "mimetype": "text/x-python",
   "name": "python",
   "nbconvert_exporter": "python",
   "pygments_lexer": "ipython3",
   "version": "3.13.2"
  }
 },
 "nbformat": 4,
 "nbformat_minor": 5
}
