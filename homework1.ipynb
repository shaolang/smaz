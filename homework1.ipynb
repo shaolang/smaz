{
 "cells": [
  {
   "cell_type": "markdown",
   "id": "6091ed59-1f1d-4da7-ae89-daf569fe2e76",
   "metadata": {},
   "source": [
    "# Question 1: [Index] S&P 500 Stocks Added to the Index\n",
    "\n",
    "Which year had the highest number of additions?\n",
    "\n",
    "Using the list of S&P 500 companies from Wikipedia's [S&P 500 companies page][wiki-page], download the data including the year each company was added to the index.\n",
    "\n",
    "- Create a DataFrame with company tickers, names, and the year they were added.\n",
    "- Extract the year from the addition date and calculate the number of stocks added each year.\n",
    "- Which year had the highest number of additions (1957 doesn't count, as it was the year when the S&P 500 index was founded)? Write down this year as your answer (the most recent one, if you have several records).\n",
    "\n",
    "Context:\n",
    "\n",
    ">\" Following the announcement, all four new entrants saw their stock prices rise in extended trading on Friday\" - recent examples of S&P 500 additions include DASH, WSM, EXE, TKO in 2025 ([Nasdaq article][nasdaq-article]).\n",
    "\n",
    "Additional: How many current S&P 500 stocks have been in the index for more than 20 years? When stocks are added to the S&P 500, they usually experience a price bump as investors and index funds buy shares following the announcement.\n",
    "\n",
    "[wiki-page]: https://en.wikipedia.org/wiki/List_of_S%26P_500_companies\n",
    "[nasdaq-article]: https://www.nasdaq.com/articles/sp-500-reshuffle-dash-tko-expe-wsm-join-worth-buying"
   ]
  },
  {
   "cell_type": "code",
   "execution_count": 1,
   "id": "a192db7d-9abc-49fb-83ff-665d9fa53f91",
   "metadata": {},
   "outputs": [
    {
     "data": {
      "text/html": [
       "<div><style>\n",
       ".dataframe > thead > tr,\n",
       ".dataframe > tbody > tr {\n",
       "  text-align: right;\n",
       "  white-space: pre-wrap;\n",
       "}\n",
       "</style>\n",
       "<small>shape: (5, 3)</small><table border=\"1\" class=\"dataframe\"><thead><tr><th>symbol</th><th>security</th><th>year</th></tr><tr><td>str</td><td>str</td><td>i32</td></tr></thead><tbody><tr><td>&quot;MMM&quot;</td><td>&quot;3M&quot;</td><td>1957</td></tr><tr><td>&quot;AOS&quot;</td><td>&quot;A. O. Smith&quot;</td><td>2017</td></tr><tr><td>&quot;ABT&quot;</td><td>&quot;Abbott Laboratories&quot;</td><td>1957</td></tr><tr><td>&quot;ABBV&quot;</td><td>&quot;AbbVie&quot;</td><td>2012</td></tr><tr><td>&quot;ACN&quot;</td><td>&quot;Accenture&quot;</td><td>2011</td></tr></tbody></table></div>"
      ],
      "text/plain": [
       "shape: (5, 3)\n",
       "┌────────┬─────────────────────┬──────┐\n",
       "│ symbol ┆ security            ┆ year │\n",
       "│ ---    ┆ ---                 ┆ ---  │\n",
       "│ str    ┆ str                 ┆ i32  │\n",
       "╞════════╪═════════════════════╪══════╡\n",
       "│ MMM    ┆ 3M                  ┆ 1957 │\n",
       "│ AOS    ┆ A. O. Smith         ┆ 2017 │\n",
       "│ ABT    ┆ Abbott Laboratories ┆ 1957 │\n",
       "│ ABBV   ┆ AbbVie              ┆ 2012 │\n",
       "│ ACN    ┆ Accenture           ┆ 2011 │\n",
       "└────────┴─────────────────────┴──────┘"
      ]
     },
     "execution_count": 1,
     "metadata": {},
     "output_type": "execute_result"
    }
   ],
   "source": [
    "from bs4 import BeautifulSoup\n",
    "from datetime import date\n",
    "from polars import col as c\n",
    "import polars as pl\n",
    "import requests as r\n",
    "\n",
    "resp = r.get('https://en.wikipedia.org/wiki/List_of_S%26P_500_companies')\n",
    "doc = BeautifulSoup(resp.content, 'html.parser')\n",
    "table = doc.find_all(id='constituents')[0]\n",
    "headers = [str(h.get_text().strip()).lower() for h in table.find_all(name='th')]\n",
    "rows = [\n",
    "    [str(cell.get_text().strip()) for cell in row.find_all(name='td')]\n",
    "    for row in table.find_all(name='tr')[1:]   # for some strange reasons, header row (tr > th) is the first row in  <tbody>\n",
    "]\n",
    "df = pl.DataFrame([dict(zip(headers, row)) for row in rows]).with_columns(\n",
    "    year=c(\"date added\").str.strptime(pl.Date, \"%Y-%m-%d\").dt.year()\n",
    ").select('symbol', 'security', 'year')\n",
    "df.head()"
   ]
  },
  {
   "cell_type": "code",
   "execution_count": 2,
   "id": "81bc34de-8cfd-4c2d-b642-2ccbea8d79bd",
   "metadata": {},
   "outputs": [
    {
     "data": {
      "text/html": [
       "<div><style>\n",
       ".dataframe > thead > tr,\n",
       ".dataframe > tbody > tr {\n",
       "  text-align: right;\n",
       "  white-space: pre-wrap;\n",
       "}\n",
       "</style>\n",
       "<small>shape: (5, 2)</small><table border=\"1\" class=\"dataframe\"><thead><tr><th>year</th><th>num_additions</th></tr><tr><td>i32</td><td>u32</td></tr></thead><tbody><tr><td>2017</td><td>23</td></tr><tr><td>2016</td><td>23</td></tr><tr><td>2019</td><td>22</td></tr><tr><td>2008</td><td>17</td></tr><tr><td>2024</td><td>16</td></tr></tbody></table></div>"
      ],
      "text/plain": [
       "shape: (5, 2)\n",
       "┌──────┬───────────────┐\n",
       "│ year ┆ num_additions │\n",
       "│ ---  ┆ ---           │\n",
       "│ i32  ┆ u32           │\n",
       "╞══════╪═══════════════╡\n",
       "│ 2017 ┆ 23            │\n",
       "│ 2016 ┆ 23            │\n",
       "│ 2019 ┆ 22            │\n",
       "│ 2008 ┆ 17            │\n",
       "│ 2024 ┆ 16            │\n",
       "└──────┴───────────────┘"
      ]
     },
     "execution_count": 2,
     "metadata": {},
     "output_type": "execute_result"
    }
   ],
   "source": [
    "df.group_by('year').agg(\n",
    "    num_additions=pl.first().filter(c('year') != 1957).count()\n",
    ").sort(['num_additions', 'year'], descending=True).head()"
   ]
  },
  {
   "cell_type": "markdown",
   "id": "2937daf2-1167-4ea3-90de-b6c8e55da8ff",
   "metadata": {},
   "source": [
    "For simplicity, only the (extracted) year component used to determine whether the company is on S&P 500 for more than 20 years."
   ]
  },
  {
   "cell_type": "code",
   "execution_count": 3,
   "id": "68c18d60-9f52-4f1d-ba87-c82d8c3c57db",
   "metadata": {},
   "outputs": [
    {
     "data": {
      "text/plain": [
       "219"
      ]
     },
     "execution_count": 3,
     "metadata": {},
     "output_type": "execute_result"
    }
   ],
   "source": [
    "df.filter(c('year') + 20 < date.today().year).select(pl.first().count()).item(0, 0)"
   ]
  },
  {
   "cell_type": "markdown",
   "id": "10a5e4df-d3f1-4ca8-8d5f-c2f1813ce0c8",
   "metadata": {},
   "source": [
    "# Question 2. [Macro] Indexes YTD (as of 1 May 2025)\n",
    "\n",
    "How many indexes (out of 10) have better year-to-date returns than the US (S&P 500) as of May 1, 2025?\n",
    "\n",
    "Using Yahoo Finance World Indices data, compare the year-to-date (YTD) performance (1 January-1 May 2025) of major stock market indexes for the following countries:\n",
    "\n",
    "- United States - S&P 500 (^GSPC)\n",
    "- China - Shanghai Composite (000001.SS)\n",
    "- Hong Kong - HANG SENG INDEX (^HSI)\n",
    "- Australia - S&P/ASX 200 (^AXJO)\n",
    "- India - Nifty 50 (^NSEI)\n",
    "- Canada - S&P/TSX Composite (^GSPTSE)\n",
    "- Germany - DAX (^GDAXI)\n",
    "- United Kingdom - FTSE 100 (^FTSE)\n",
    "- Japan - Nikkei 225 (^N225)\n",
    "- Mexico - IPC Mexico (^MXX)\n",
    "- Brazil - Ibovespa (^BVSP)\n",
    "\n",
    "Hint: use `start_date='2025-01-01'` and `end_date='2025-05-01'` when downloading daily data in yfinance\n",
    "\n",
    "Context:\n",
    "\n",
    "> [Global Valuations: Who's Cheap][global-valuations], Who's Not? article suggests \"Other regions may be growing faster than the US and you need to diversify.\"\n",
    "\n",
    "Reference: Yahoo Finance World Indices - https://finance.yahoo.com/world-indices/\n",
    "\n",
    "Additional: How many of these indexes have better returns than the S&P 500 over 3, 5, and 10 year periods? Do you see the same trend? Note: For simplicity, ignore currency conversion effects.)\n",
    "\n",
    "[global-valuations]: https://simplywall.st/article/beyond-the-us-global-markets-after-yet-another-tariff-update"
   ]
  },
  {
   "cell_type": "code",
   "execution_count": 4,
   "id": "b1830f28-21d7-470d-b840-941974355460",
   "metadata": {},
   "outputs": [],
   "source": [
    "import yfinance as yf\n",
    "from pathlib import Path\n",
    "\n",
    "def load_index(index: str, start='2025-01-01', end='2025-05-01') -> pl.DataFrame:\n",
    "    fname = Path.cwd() / f\"{index[1:] if index.startswith('^') else index}.csv\".lower()\n",
    "    \n",
    "    if fname.exists():\n",
    "        return pl.read_csv(fname)\n",
    "    else:\n",
    "        df = pl.DataFrame(yf.Ticker(index).history(start='2025-01-01', end='2025-05-01').reset_index())\n",
    "        df.write_csv(fname)   # cache the data to prevent API throttling problems during experimentations\n",
    "        return df\n",
    "\n",
    "def calculate_ytd_performance(df: pl.DataFrame) -> float:\n",
    "    return df['Close'].item(-1) / df['Close'].item(0) - 1"
   ]
  },
  {
   "cell_type": "markdown",
   "id": "5fe5ee0e-fb8a-411b-96f8-76bf26cac352",
   "metadata": {},
   "source": [
    "Let's get the YTD performances for each index:"
   ]
  },
  {
   "cell_type": "code",
   "execution_count": 5,
   "id": "1c9ec6e6-3c0f-4740-a3e1-cda999fd9efe",
   "metadata": {},
   "outputs": [
    {
     "data": {
      "text/html": [
       "<div><style>\n",
       ".dataframe > thead > tr,\n",
       ".dataframe > tbody > tr {\n",
       "  text-align: right;\n",
       "  white-space: pre-wrap;\n",
       "}\n",
       "</style>\n",
       "<small>shape: (11, 2)</small><table border=\"1\" class=\"dataframe\"><thead><tr><th>index</th><th>ytd-perf</th></tr><tr><td>str</td><td>f64</td></tr></thead><tbody><tr><td>&quot;Mexico - IPC Mexico&quot;</td><td>0.130494</td></tr><tr><td>&quot;Hong Kong - HANG SENG INDEX&quot;</td><td>0.1272</td></tr><tr><td>&quot;Brazil - Ibovespa&quot;</td><td>0.124387</td></tr><tr><td>&quot;Germany - DAX&quot;</td><td>0.123464</td></tr><tr><td>&quot;United Kingdom - FTSE 100&quot;</td><td>0.028426</td></tr><tr><td>&hellip;</td><td>&hellip;</td></tr><tr><td>&quot;China - Shanghai Composite&quot;</td><td>0.005048</td></tr><tr><td>&quot;Canada - S&amp;P/TSX Composite&quot;</td><td>-0.002261</td></tr><tr><td>&quot;Australia - S&amp;P/ASX 200&quot;</td><td>-0.009145</td></tr><tr><td>&quot;United States - S&amp;P 500&quot;</td><td>-0.051033</td></tr><tr><td>&quot;Japan - Nikkei 225&quot;</td><td>-0.082979</td></tr></tbody></table></div>"
      ],
      "text/plain": [
       "shape: (11, 2)\n",
       "┌─────────────────────────────┬───────────┐\n",
       "│ index                       ┆ ytd-perf  │\n",
       "│ ---                         ┆ ---       │\n",
       "│ str                         ┆ f64       │\n",
       "╞═════════════════════════════╪═══════════╡\n",
       "│ Mexico - IPC Mexico         ┆ 0.130494  │\n",
       "│ Hong Kong - HANG SENG INDEX ┆ 0.1272    │\n",
       "│ Brazil - Ibovespa           ┆ 0.124387  │\n",
       "│ Germany - DAX               ┆ 0.123464  │\n",
       "│ United Kingdom - FTSE 100   ┆ 0.028426  │\n",
       "│ …                           ┆ …         │\n",
       "│ China - Shanghai Composite  ┆ 0.005048  │\n",
       "│ Canada - S&P/TSX Composite  ┆ -0.002261 │\n",
       "│ Australia - S&P/ASX 200     ┆ -0.009145 │\n",
       "│ United States - S&P 500     ┆ -0.051033 │\n",
       "│ Japan - Nikkei 225          ┆ -0.082979 │\n",
       "└─────────────────────────────┴───────────┘"
      ]
     },
     "execution_count": 5,
     "metadata": {},
     "output_type": "execute_result"
    }
   ],
   "source": [
    "indices = {\n",
    "    'United States - S&P 500': '^GSPC',\n",
    "    'China - Shanghai Composite': '000001.SS',\n",
    "    'Hong Kong - HANG SENG INDEX': '^HSI',\n",
    "    'Australia - S&P/ASX 200': '^AXJO',\n",
    "    'India - Nifty 50': '^NSEI',\n",
    "    'Canada - S&P/TSX Composite': '^GSPTSE',\n",
    "    'Germany - DAX': '^GDAXI',\n",
    "    'United Kingdom - FTSE 100': '^FTSE',\n",
    "    'Japan - Nikkei 225': '^N225',\n",
    "    'Mexico - IPC Mexico': '^MXX',\n",
    "    'Brazil - Ibovespa': '^BVSP'\n",
    "}\n",
    "\n",
    "df = pl.DataFrame([\n",
    "    {'index': k, 'ytd-perf': calculate_ytd_performance(load_index(v))}\n",
    "    for k, v in indices.items()\n",
    "])\n",
    "df.sort('ytd-perf', descending=True)"
   ]
  },
  {
   "cell_type": "markdown",
   "id": "0807144d-db91-4a75-97ea-017187bbe136",
   "metadata": {},
   "source": [
    "Then retrieve S&P 500's performance:"
   ]
  },
  {
   "cell_type": "code",
   "execution_count": 6,
   "id": "c9a4b7f2-9eb7-4fb2-bbc6-75a811cf4558",
   "metadata": {},
   "outputs": [
    {
     "data": {
      "text/plain": [
       "-0.05103300748245043"
      ]
     },
     "execution_count": 6,
     "metadata": {},
     "output_type": "execute_result"
    }
   ],
   "source": [
    "sp = 'United States - S&P 500'\n",
    "sp_perf = df.filter(c('index') == sp).item(0, 1)\n",
    "sp_perf"
   ]
  },
  {
   "cell_type": "markdown",
   "id": "a9ea54e6-bb02-4047-ab36-77999a2f0c30",
   "metadata": {},
   "source": [
    "And finally, count the number of records in the dataframe that's filtered indices with better YTD performance: "
   ]
  },
  {
   "cell_type": "code",
   "execution_count": 7,
   "id": "e00ac105-c880-4837-bcc9-8158d543d436",
   "metadata": {},
   "outputs": [
    {
     "data": {
      "text/plain": [
       "9"
      ]
     },
     "execution_count": 7,
     "metadata": {},
     "output_type": "execute_result"
    }
   ],
   "source": [
    "df.filter((c('index') != sp) & (c('ytd-perf') > sp_perf)).select(pl.first().count()).item(0, 0)"
   ]
  }
 ],
 "metadata": {
  "kernelspec": {
   "display_name": "Python 3 (ipykernel)",
   "language": "python",
   "name": "python3"
  },
  "language_info": {
   "codemirror_mode": {
    "name": "ipython",
    "version": 3
   },
   "file_extension": ".py",
   "mimetype": "text/x-python",
   "name": "python",
   "nbconvert_exporter": "python",
   "pygments_lexer": "ipython3",
   "version": "3.12.10"
  }
 },
 "nbformat": 4,
 "nbformat_minor": 5
}
