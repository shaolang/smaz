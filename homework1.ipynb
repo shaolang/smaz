{
 "cells": [
  {
   "cell_type": "markdown",
   "id": "6091ed59-1f1d-4da7-ae89-daf569fe2e76",
   "metadata": {},
   "source": [
    "# Question 1: [Index] S&P 500 Stocks Added to the Index\n",
    "\n",
    "Which year had the highest number of additions?\n",
    "\n",
    "Using the list of S&P 500 companies from Wikipedia's [S&P 500 companies page][wiki-page], download the data including the year each company was added to the index.\n",
    "\n",
    "- Create a DataFrame with company tickers, names, and the year they were added.\n",
    "- Extract the year from the addition date and calculate the number of stocks added each year.\n",
    "- Which year had the highest number of additions (1957 doesn't count, as it was the year when the S&P 500 index was founded)? Write down this year as your answer (the most recent one, if you have several records).\n",
    "\n",
    "Context:\n",
    "\n",
    ">\" Following the announcement, all four new entrants saw their stock prices rise in extended trading on Friday\" - recent examples of S&P 500 additions include DASH, WSM, EXE, TKO in 2025 ([Nasdaq article][nasdaq-article]).\n",
    "\n",
    "Additional: How many current S&P 500 stocks have been in the index for more than 20 years? When stocks are added to the S&P 500, they usually experience a price bump as investors and index funds buy shares following the announcement.\n",
    "\n",
    "[wiki-page]: https://en.wikipedia.org/wiki/List_of_S%26P_500_companies\n",
    "[nasdaq-article]: https://www.nasdaq.com/articles/sp-500-reshuffle-dash-tko-expe-wsm-join-worth-buying"
   ]
  },
  {
   "cell_type": "code",
   "execution_count": 1,
   "id": "a192db7d-9abc-49fb-83ff-665d9fa53f91",
   "metadata": {},
   "outputs": [
    {
     "data": {
      "text/html": [
       "<div><style>\n",
       ".dataframe > thead > tr,\n",
       ".dataframe > tbody > tr {\n",
       "  text-align: right;\n",
       "  white-space: pre-wrap;\n",
       "}\n",
       "</style>\n",
       "<small>shape: (5, 3)</small><table border=\"1\" class=\"dataframe\"><thead><tr><th>symbol</th><th>security</th><th>year</th></tr><tr><td>str</td><td>str</td><td>i32</td></tr></thead><tbody><tr><td>&quot;MMM&quot;</td><td>&quot;3M&quot;</td><td>1957</td></tr><tr><td>&quot;AOS&quot;</td><td>&quot;A. O. Smith&quot;</td><td>2017</td></tr><tr><td>&quot;ABT&quot;</td><td>&quot;Abbott Laboratories&quot;</td><td>1957</td></tr><tr><td>&quot;ABBV&quot;</td><td>&quot;AbbVie&quot;</td><td>2012</td></tr><tr><td>&quot;ACN&quot;</td><td>&quot;Accenture&quot;</td><td>2011</td></tr></tbody></table></div>"
      ],
      "text/plain": [
       "shape: (5, 3)\n",
       "┌────────┬─────────────────────┬──────┐\n",
       "│ symbol ┆ security            ┆ year │\n",
       "│ ---    ┆ ---                 ┆ ---  │\n",
       "│ str    ┆ str                 ┆ i32  │\n",
       "╞════════╪═════════════════════╪══════╡\n",
       "│ MMM    ┆ 3M                  ┆ 1957 │\n",
       "│ AOS    ┆ A. O. Smith         ┆ 2017 │\n",
       "│ ABT    ┆ Abbott Laboratories ┆ 1957 │\n",
       "│ ABBV   ┆ AbbVie              ┆ 2012 │\n",
       "│ ACN    ┆ Accenture           ┆ 2011 │\n",
       "└────────┴─────────────────────┴──────┘"
      ]
     },
     "execution_count": 1,
     "metadata": {},
     "output_type": "execute_result"
    }
   ],
   "source": [
    "from bs4 import BeautifulSoup\n",
    "from datetime import date\n",
    "from polars import col as c\n",
    "import polars as pl\n",
    "import requests as r\n",
    "\n",
    "resp = r.get('https://en.wikipedia.org/wiki/List_of_S%26P_500_companies')\n",
    "doc = BeautifulSoup(resp.content, 'html.parser')\n",
    "table = doc.find_all(id='constituents')[0]\n",
    "headers = [str(h.get_text().strip()).lower() for h in table.find_all(name='th')]\n",
    "rows = [\n",
    "    [str(cell.get_text().strip()) for cell in row.find_all(name='td')]\n",
    "    for row in table.find_all(name='tr')[1:]   # for some strange reasons, header row (tr > th) is the first row in  <tbody>\n",
    "]\n",
    "df = pl.DataFrame([dict(zip(headers, row)) for row in rows]).with_columns(\n",
    "    year=c(\"date added\").str.strptime(pl.Date, \"%Y-%m-%d\").dt.year()\n",
    ").select('symbol', 'security', 'year')\n",
    "df.head()"
   ]
  },
  {
   "cell_type": "code",
   "execution_count": 2,
   "id": "81bc34de-8cfd-4c2d-b642-2ccbea8d79bd",
   "metadata": {},
   "outputs": [
    {
     "data": {
      "text/html": [
       "<div><style>\n",
       ".dataframe > thead > tr,\n",
       ".dataframe > tbody > tr {\n",
       "  text-align: right;\n",
       "  white-space: pre-wrap;\n",
       "}\n",
       "</style>\n",
       "<small>shape: (5, 2)</small><table border=\"1\" class=\"dataframe\"><thead><tr><th>year</th><th>num_additions</th></tr><tr><td>i32</td><td>u32</td></tr></thead><tbody><tr><td>2017</td><td>23</td></tr><tr><td>2016</td><td>23</td></tr><tr><td>2019</td><td>22</td></tr><tr><td>2008</td><td>17</td></tr><tr><td>2024</td><td>16</td></tr></tbody></table></div>"
      ],
      "text/plain": [
       "shape: (5, 2)\n",
       "┌──────┬───────────────┐\n",
       "│ year ┆ num_additions │\n",
       "│ ---  ┆ ---           │\n",
       "│ i32  ┆ u32           │\n",
       "╞══════╪═══════════════╡\n",
       "│ 2017 ┆ 23            │\n",
       "│ 2016 ┆ 23            │\n",
       "│ 2019 ┆ 22            │\n",
       "│ 2008 ┆ 17            │\n",
       "│ 2024 ┆ 16            │\n",
       "└──────┴───────────────┘"
      ]
     },
     "execution_count": 2,
     "metadata": {},
     "output_type": "execute_result"
    }
   ],
   "source": [
    "df.group_by('year').agg(\n",
    "    num_additions=pl.first().filter(c('year') != 1957).count()\n",
    ").sort(['num_additions', 'year'], descending=True).head()"
   ]
  },
  {
   "cell_type": "markdown",
   "id": "2937daf2-1167-4ea3-90de-b6c8e55da8ff",
   "metadata": {},
   "source": [
    "For simplicity, only the (extracted) year component used to determine whether the company is on S&P 500 for more than 20 years."
   ]
  },
  {
   "cell_type": "code",
   "execution_count": 3,
   "id": "68c18d60-9f52-4f1d-ba87-c82d8c3c57db",
   "metadata": {},
   "outputs": [
    {
     "data": {
      "text/plain": [
       "219"
      ]
     },
     "execution_count": 3,
     "metadata": {},
     "output_type": "execute_result"
    }
   ],
   "source": [
    "df.filter(c('year') + 20 < date.today().year).select(pl.first().count()).item(0, 0)"
   ]
  },
  {
   "cell_type": "markdown",
   "id": "10a5e4df-d3f1-4ca8-8d5f-c2f1813ce0c8",
   "metadata": {},
   "source": [
    "# Question 2. [Macro] Indexes YTD (as of 1 May 2025)\n",
    "\n",
    "How many indexes (out of 10) have better year-to-date returns than the US (S&P 500) as of May 1, 2025?\n",
    "\n",
    "Using Yahoo Finance World Indices data, compare the year-to-date (YTD) performance (1 January-1 May 2025) of major stock market indexes for the following countries:\n",
    "\n",
    "- United States - S&P 500 (^GSPC)\n",
    "- China - Shanghai Composite (000001.SS)\n",
    "- Hong Kong - HANG SENG INDEX (^HSI)\n",
    "- Australia - S&P/ASX 200 (^AXJO)\n",
    "- India - Nifty 50 (^NSEI)\n",
    "- Canada - S&P/TSX Composite (^GSPTSE)\n",
    "- Germany - DAX (^GDAXI)\n",
    "- United Kingdom - FTSE 100 (^FTSE)\n",
    "- Japan - Nikkei 225 (^N225)\n",
    "- Mexico - IPC Mexico (^MXX)\n",
    "- Brazil - Ibovespa (^BVSP)\n",
    "\n",
    "Hint: use `start_date='2025-01-01'` and `end_date='2025-05-01'` when downloading daily data in yfinance\n",
    "\n",
    "Context:\n",
    "\n",
    "> [Global Valuations: Who's Cheap][global-valuations], Who's Not? article suggests \"Other regions may be growing faster than the US and you need to diversify.\"\n",
    "\n",
    "Reference: Yahoo Finance World Indices - https://finance.yahoo.com/world-indices/\n",
    "\n",
    "Additional: How many of these indexes have better returns than the S&P 500 over 3, 5, and 10 year periods? Do you see the same trend? Note: For simplicity, ignore currency conversion effects.)\n",
    "\n",
    "[global-valuations]: https://simplywall.st/article/beyond-the-us-global-markets-after-yet-another-tariff-update"
   ]
  },
  {
   "cell_type": "code",
   "execution_count": 4,
   "id": "b1830f28-21d7-470d-b840-941974355460",
   "metadata": {},
   "outputs": [],
   "source": [
    "import yfinance as yf\n",
    "from pathlib import Path\n",
    "\n",
    "def load_ohlc(index: str, start='2025-01-01', end='2025-05-01') -> pl.DataFrame:\n",
    "    fname = Path.cwd() / f\"{index[1:] if index.startswith('^') else index}-{start}-{end}.csv\".lower()\n",
    "    \n",
    "    if fname.exists():\n",
    "        df = pl.read_csv(fname).with_columns(Date=c('Date').str.slice(0, 10).str.strptime(pl.Date, '%Y-%m-%d'))\n",
    "    else:\n",
    "        df = pl.DataFrame(yf.Ticker(index).history(start=start, end=end).reset_index())\n",
    "        df.write_csv(fname)   # cache the data to prevent API throttling problems during experimentations\n",
    "    \n",
    "    return df.sort('Date', descending=False)\n",
    "\n",
    "def calculate_ytd_performance(df: pl.DataFrame) -> float:\n",
    "    return df['Close'].item(-1) / df['Close'].item(0) - 1"
   ]
  },
  {
   "cell_type": "markdown",
   "id": "5fe5ee0e-fb8a-411b-96f8-76bf26cac352",
   "metadata": {},
   "source": [
    "Let's get the YTD performances for each index:"
   ]
  },
  {
   "cell_type": "code",
   "execution_count": 5,
   "id": "1c9ec6e6-3c0f-4740-a3e1-cda999fd9efe",
   "metadata": {},
   "outputs": [
    {
     "data": {
      "text/html": [
       "<div><style>\n",
       ".dataframe > thead > tr,\n",
       ".dataframe > tbody > tr {\n",
       "  text-align: right;\n",
       "  white-space: pre-wrap;\n",
       "}\n",
       "</style>\n",
       "<small>shape: (11, 2)</small><table border=\"1\" class=\"dataframe\"><thead><tr><th>index</th><th>ytd-perf</th></tr><tr><td>str</td><td>f64</td></tr></thead><tbody><tr><td>&quot;Mexico - IPC Mexico&quot;</td><td>0.130494</td></tr><tr><td>&quot;Hong Kong - HANG SENG INDEX&quot;</td><td>0.1272</td></tr><tr><td>&quot;Brazil - Ibovespa&quot;</td><td>0.124387</td></tr><tr><td>&quot;Germany - DAX&quot;</td><td>0.123464</td></tr><tr><td>&quot;United Kingdom - FTSE 100&quot;</td><td>0.028426</td></tr><tr><td>&hellip;</td><td>&hellip;</td></tr><tr><td>&quot;China - Shanghai Composite&quot;</td><td>0.005048</td></tr><tr><td>&quot;Canada - S&amp;P/TSX Composite&quot;</td><td>-0.002261</td></tr><tr><td>&quot;Australia - S&amp;P/ASX 200&quot;</td><td>-0.009145</td></tr><tr><td>&quot;United States - S&amp;P 500&quot;</td><td>-0.051033</td></tr><tr><td>&quot;Japan - Nikkei 225&quot;</td><td>-0.082979</td></tr></tbody></table></div>"
      ],
      "text/plain": [
       "shape: (11, 2)\n",
       "┌─────────────────────────────┬───────────┐\n",
       "│ index                       ┆ ytd-perf  │\n",
       "│ ---                         ┆ ---       │\n",
       "│ str                         ┆ f64       │\n",
       "╞═════════════════════════════╪═══════════╡\n",
       "│ Mexico - IPC Mexico         ┆ 0.130494  │\n",
       "│ Hong Kong - HANG SENG INDEX ┆ 0.1272    │\n",
       "│ Brazil - Ibovespa           ┆ 0.124387  │\n",
       "│ Germany - DAX               ┆ 0.123464  │\n",
       "│ United Kingdom - FTSE 100   ┆ 0.028426  │\n",
       "│ …                           ┆ …         │\n",
       "│ China - Shanghai Composite  ┆ 0.005048  │\n",
       "│ Canada - S&P/TSX Composite  ┆ -0.002261 │\n",
       "│ Australia - S&P/ASX 200     ┆ -0.009145 │\n",
       "│ United States - S&P 500     ┆ -0.051033 │\n",
       "│ Japan - Nikkei 225          ┆ -0.082979 │\n",
       "└─────────────────────────────┴───────────┘"
      ]
     },
     "execution_count": 5,
     "metadata": {},
     "output_type": "execute_result"
    }
   ],
   "source": [
    "indices = {\n",
    "    'United States - S&P 500': '^GSPC',\n",
    "    'China - Shanghai Composite': '000001.SS',\n",
    "    'Hong Kong - HANG SENG INDEX': '^HSI',\n",
    "    'Australia - S&P/ASX 200': '^AXJO',\n",
    "    'India - Nifty 50': '^NSEI',\n",
    "    'Canada - S&P/TSX Composite': '^GSPTSE',\n",
    "    'Germany - DAX': '^GDAXI',\n",
    "    'United Kingdom - FTSE 100': '^FTSE',\n",
    "    'Japan - Nikkei 225': '^N225',\n",
    "    'Mexico - IPC Mexico': '^MXX',\n",
    "    'Brazil - Ibovespa': '^BVSP'\n",
    "}\n",
    "\n",
    "df = pl.DataFrame([\n",
    "    {'index': k, 'ytd-perf': calculate_ytd_performance(load_ohlc(v))}\n",
    "    for k, v in indices.items()\n",
    "])\n",
    "df.sort('ytd-perf', descending=True)"
   ]
  },
  {
   "cell_type": "markdown",
   "id": "0807144d-db91-4a75-97ea-017187bbe136",
   "metadata": {},
   "source": [
    "Then retrieve S&P 500's performance:"
   ]
  },
  {
   "cell_type": "code",
   "execution_count": 6,
   "id": "c9a4b7f2-9eb7-4fb2-bbc6-75a811cf4558",
   "metadata": {},
   "outputs": [
    {
     "data": {
      "text/plain": [
       "-0.05103300748245043"
      ]
     },
     "execution_count": 6,
     "metadata": {},
     "output_type": "execute_result"
    }
   ],
   "source": [
    "sp = 'United States - S&P 500'\n",
    "sp_perf = df.filter(c('index') == sp).item(0, 1)\n",
    "sp_perf"
   ]
  },
  {
   "cell_type": "markdown",
   "id": "a9ea54e6-bb02-4047-ab36-77999a2f0c30",
   "metadata": {},
   "source": [
    "And finally, count the number of records in the dataframe that's filtered indices with better YTD performance: "
   ]
  },
  {
   "cell_type": "code",
   "execution_count": 7,
   "id": "e00ac105-c880-4837-bcc9-8158d543d436",
   "metadata": {},
   "outputs": [
    {
     "data": {
      "text/plain": [
       "9"
      ]
     },
     "execution_count": 7,
     "metadata": {},
     "output_type": "execute_result"
    }
   ],
   "source": [
    "df.filter((c('index') != sp) & (c('ytd-perf') > sp_perf)).select(pl.first().count()).item(0, 0)"
   ]
  },
  {
   "cell_type": "markdown",
   "id": "4abcd079-fce1-4bd0-8567-b8dfbf4caea9",
   "metadata": {},
   "source": [
    "# Question 3. [Index] S&P 500 Market Corrections Analysis\n",
    "\n",
    "Calculate the median duration (in days) of significant market corrections in the S&P 500 index.\n",
    "\n",
    "For this task, define a correction as an event when a stock index goes down by more than 5% from the closest all-time high maximum.\n",
    "\n",
    "Steps:\n",
    "\n",
    "1. Download S&P 500 historical data (1950-present) using yfinance\n",
    "2. Identify all-time high points (where price exceeds all previous prices)\n",
    "3. For each pair of consecutive all-time highs, find the minimum price in between\n",
    "4. Calculate drawdown percentages: (high - low) / high × 100\n",
    "5. Filter for corrections with at least 5% drawdown\n",
    "6. Calculate the duration in days for each correction period\n",
    "7. Determine the 25th, 50th (median), and 75th percentiles for correction durations\n",
    "\n",
    "Context:\n",
    "\n",
    "> * Investors often wonder about the typical length of market corrections when deciding \"when to buy the dip\" ([Reddit discussion][reddit]).\n",
    "> * [A Wealth of Common Sense - How Often Should You Expect a Stock Market Correction?][wealth-cs]\n",
    "\n",
    "Hint (use this data to compare with your results): Here is the list of top 10 largest corrections by drawdown:\n",
    "\n",
    "- 2007-10-09 to 2009-03-09: 56.8% drawdown over 517 days\n",
    "- 2000-03-24 to 2002-10-09: 49.1% drawdown over 929 days\n",
    "- 1973-01-11 to 1974-10-03: 48.2% drawdown over 630 days\n",
    "- 1968-11-29 to 1970-05-26: 36.1% drawdown over 543 days\n",
    "- 2020-02-19 to 2020-03-23: 33.9% drawdown over 33 days\n",
    "- 1987-08-25 to 1987-12-04: 33.5% drawdown over 101 days\n",
    "- 1961-12-12 to 1962-06-26: 28.0% drawdown over 196 days\n",
    "- 1980-11-28 to 1982-08-12: 27.1% drawdown over 622 days\n",
    "- 2022-01-03 to 2022-10-12: 25.4% drawdown over 282 days\n",
    "- 1966-02-09 to 1966-10-07: 22.2% drawdown over 240 days\n",
    "\n",
    "[reddit]: https://www.reddit.com/r/investing/comments/1jrqnte/when_are_you_buying_the_dip/?rdt=64135\n",
    "[wealth-cs]: https://awealthofcommonsense.com/2022/01/how-often-should-you-expect-a-stock-market-correction/"
   ]
  },
  {
   "cell_type": "code",
   "execution_count": 8,
   "id": "eac3464d-98b1-433a-b6d9-ddcad520de32",
   "metadata": {},
   "outputs": [
    {
     "data": {
      "text/html": [
       "<div><style>\n",
       ".dataframe > thead > tr,\n",
       ".dataframe > tbody > tr {\n",
       "  text-align: right;\n",
       "  white-space: pre-wrap;\n",
       "}\n",
       "</style>\n",
       "<small>shape: (18_975, 2)</small><table border=\"1\" class=\"dataframe\"><thead><tr><th>Date</th><th>Close</th></tr><tr><td>date</td><td>f64</td></tr></thead><tbody><tr><td>1950-01-03</td><td>16.66</td></tr><tr><td>1950-01-04</td><td>16.85</td></tr><tr><td>1950-01-05</td><td>16.93</td></tr><tr><td>1950-01-06</td><td>16.98</td></tr><tr><td>1950-01-09</td><td>17.08</td></tr><tr><td>&hellip;</td><td>&hellip;</td></tr><tr><td>2025-05-28</td><td>5888.549805</td></tr><tr><td>2025-05-29</td><td>5912.169922</td></tr><tr><td>2025-05-30</td><td>5911.689941</td></tr><tr><td>2025-06-02</td><td>5935.939941</td></tr><tr><td>2025-06-03</td><td>5970.370117</td></tr></tbody></table></div>"
      ],
      "text/plain": [
       "shape: (18_975, 2)\n",
       "┌────────────┬─────────────┐\n",
       "│ Date       ┆ Close       │\n",
       "│ ---        ┆ ---         │\n",
       "│ date       ┆ f64         │\n",
       "╞════════════╪═════════════╡\n",
       "│ 1950-01-03 ┆ 16.66       │\n",
       "│ 1950-01-04 ┆ 16.85       │\n",
       "│ 1950-01-05 ┆ 16.93       │\n",
       "│ 1950-01-06 ┆ 16.98       │\n",
       "│ 1950-01-09 ┆ 17.08       │\n",
       "│ …          ┆ …           │\n",
       "│ 2025-05-28 ┆ 5888.549805 │\n",
       "│ 2025-05-29 ┆ 5912.169922 │\n",
       "│ 2025-05-30 ┆ 5911.689941 │\n",
       "│ 2025-06-02 ┆ 5935.939941 │\n",
       "│ 2025-06-03 ┆ 5970.370117 │\n",
       "└────────────┴─────────────┘"
      ]
     },
     "execution_count": 8,
     "metadata": {},
     "output_type": "execute_result"
    }
   ],
   "source": [
    "from datetime import date\n",
    "\n",
    "df = (\n",
    "    load_ohlc('^GSPC', start='1950-01-01', end=str(date.today()))\n",
    ").select('Date', 'Close')\n",
    "df"
   ]
  },
  {
   "cell_type": "markdown",
   "id": "51d019f0-8ce2-43c8-990d-09da0b30c394",
   "metadata": {},
   "source": [
    "Let's visualize the data:"
   ]
  },
  {
   "cell_type": "code",
   "execution_count": 9,
   "id": "73aaba62-0632-46f3-8675-00c9271ec273",
   "metadata": {},
   "outputs": [
    {
     "data": {
      "image/png": "[encoded data removed]",
      "text/plain": [
       "<Figure size 1500x600 with 1 Axes>"
      ]
     },
     "metadata": {},
     "output_type": "display_data"
    }
   ],
   "source": [
    "import matplotlib.pyplot as plt\n",
    "\n",
    "plt.figure(figsize=(15, 6))\n",
    "plt.plot(df['Date'], df['Close']);"
   ]
  },
  {
   "cell_type": "markdown",
   "id": "44a19b78-5f09-4f4c-98be-30f4edb8849e",
   "metadata": {},
   "source": [
    "The line seems relatively flat before 1990; this is likely due to the smallish values for that period.\n",
    "Let's \"zoom\" in to that period:"
   ]
  },
  {
   "cell_type": "code",
   "execution_count": 10,
   "id": "ea2a2cd9-a21e-48e3-82e6-802917b1af66",
   "metadata": {},
   "outputs": [
    {
     "data": {
      "image/png": "[encoded data removed]",
      "text/plain": [
       "<Figure size 1500x600 with 1 Axes>"
      ]
     },
     "metadata": {},
     "output_type": "display_data"
    }
   ],
   "source": [
    "plt.figure(figsize=(15, 6))\n",
    "pred = c('Date') < date(1990, 12, 31)\n",
    "plt.plot(df.filter(pred)['Date'], df.filter(pred)['Close']);"
   ]
  },
  {
   "cell_type": "markdown",
   "id": "aa0d622f-c678-460e-b9a0-26dbfa25ab31",
   "metadata": {},
   "source": [
    "As expected, between 1950 and 1990, there too were corrections."
   ]
  },
  {
   "cell_type": "code",
   "execution_count": 11,
   "id": "b19e9357-eeeb-42b4-a6b1-0ebc8d7d26ab",
   "metadata": {},
   "outputs": [
    {
     "data": {
      "text/html": [
       "<div><style>\n",
       ".dataframe > thead > tr,\n",
       ".dataframe > tbody > tr {\n",
       "  text-align: right;\n",
       "  white-space: pre-wrap;\n",
       "}\n",
       "</style>\n",
       "<small>shape: (1, 1)</small><table border=\"1\" class=\"dataframe\"><thead><tr><th>duration</th></tr><tr><td>f64</td></tr></thead><tbody><tr><td>40.5</td></tr></tbody></table></div>"
      ],
      "text/plain": [
       "shape: (1, 1)\n",
       "┌──────────┐\n",
       "│ duration │\n",
       "│ ---      │\n",
       "│ f64      │\n",
       "╞══════════╡\n",
       "│ 40.5     │\n",
       "└──────────┘"
      ]
     },
     "execution_count": 11,
     "metadata": {},
     "output_type": "execute_result"
    }
   ],
   "source": [
    "(\n",
    "    df.with_columns(peak=c('Close').cum_max())\n",
    "    .group_by('peak')\n",
    "    .agg(\n",
    "        low=c('Close').min(),\n",
    "        start_date=c('Date').first().dt.date(),\n",
    "        low_date=(c('Date').filter(c('Close').min() == c('Close')).first()).dt.date(),\n",
    "    )\n",
    "    .with_columns(\n",
    "        drawdown=(c('peak') - c('low')) / c('peak') * 100,\n",
    "        duration=(c('low_date') - c('start_date')).dt.total_days(),\n",
    "    )\n",
    "    .filter(c('drawdown') >= 5)\n",
    "    .sort('drawdown', descending=True)\n",
    ").select(c('duration').median())"
   ]
  },
  {
   "cell_type": "markdown",
   "id": "8c7e0125-fe71-4d76-9717-bd7025c19bec",
   "metadata": {},
   "source": [
    "# Question 4. [Stocks] Earnings Surprise Analysis for Amazon (AMZN)\n",
    "\n",
    "Calculate the median 2-day percentage change in stock prices following positive earnings surprises days.\n",
    "\n",
    "Steps:\n",
    "\n",
    "1. Load earnings data from CSV [ha1_Amazon.csv](./ha1_Amazon.csv) containing earnings dates, EPS estimates, and actual EPS.\n",
    "   Make sure you are using the correct delimiter to read the data, such as in this command python\n",
    "   `pandas.read_csv(\"ha1_Amazon.csv\", delimiter=';')`\n",
    "2. Download complete historical price data using yfinance\n",
    "3. Calculate 2-day percentage changes for all historical dates: for each sequence of 3 consecutive trading\n",
    "   days (Day 1, Day 2, Day 3), compute the return as Close_Day3 / Close_Day1 - 1. (Assume Day 2 may correspond to the\n",
    "   earnings announcement.)\n",
    "4. Identify positive earnings surprises (where \"actual EPS > estimated EPS\"). Both fields should be present in the file.\n",
    "   You should obtain 36 data points for use in the descriptive analysis (median) later.\n",
    "5. Calculate 2-day percentage changes following positive earnings surprises.\n",
    "   Show your answer in % (closest number to the 2nd digit): `return * 100.0`\n",
    "6. (Optional) Compare the median 2-day percentage change for positive surprises vs. all historical dates. Do you see the difference?\n",
    "\n",
    "Context: Earnings announcements, especially when they exceed analyst expectations, can significantly impact stock prices in the short term.\n",
    "\n",
    "Reference: Yahoo Finance earnings calendar - https://finance.yahoo.com/calendar/earnings?symbol=AMZN\n",
    "\n",
    "_Additional_: Is there a correlation between the magnitude of the earnings surprise and the stock price reaction? Does the market react differently to earnings surprises during bull vs. bear markets?)"
   ]
  },
  {
   "cell_type": "markdown",
   "id": "d2d0d774-56e7-45fe-9a3d-30e60c74cab4",
   "metadata": {},
   "source": [
    "First, load the earnings data from the given csv:"
   ]
  },
  {
   "cell_type": "code",
   "execution_count": 12,
   "id": "cb31e9a9-48d5-4794-a9fb-07302bed33c0",
   "metadata": {},
   "outputs": [
    {
     "data": {
      "text/html": [
       "<div><style>\n",
       ".dataframe > thead > tr,\n",
       ".dataframe > tbody > tr {\n",
       "  text-align: right;\n",
       "  white-space: pre-wrap;\n",
       "}\n",
       "</style>\n",
       "<small>shape: (84, 3)</small><table border=\"1\" class=\"dataframe\"><thead><tr><th>Date</th><th>eps_estimate</th><th>reported_eps</th></tr><tr><td>date</td><td>f32</td><td>f32</td></tr></thead><tbody><tr><td>2024-04-30</td><td>0.83</td><td>0.98</td></tr><tr><td>2024-02-01</td><td>0.8</td><td>1.0</td></tr><tr><td>2023-10-26</td><td>0.58</td><td>0.94</td></tr><tr><td>2023-08-03</td><td>0.35</td><td>0.65</td></tr><tr><td>2023-04-27</td><td>0.21</td><td>0.31</td></tr><tr><td>&hellip;</td><td>&hellip;</td><td>&hellip;</td></tr><tr><td>2000-04-26</td><td>-0.02</td><td>-0.02</td></tr><tr><td>2000-02-02</td><td>-0.02</td><td>-0.03</td></tr><tr><td>1999-10-27</td><td>-0.01</td><td>-0.01</td></tr><tr><td>1999-07-21</td><td>-0.01</td><td>-0.01</td></tr><tr><td>1999-04-28</td><td>-0.01</td><td>-0.01</td></tr></tbody></table></div>"
      ],
      "text/plain": [
       "shape: (84, 3)\n",
       "┌────────────┬──────────────┬──────────────┐\n",
       "│ Date       ┆ eps_estimate ┆ reported_eps │\n",
       "│ ---        ┆ ---          ┆ ---          │\n",
       "│ date       ┆ f32          ┆ f32          │\n",
       "╞════════════╪══════════════╪══════════════╡\n",
       "│ 2024-04-30 ┆ 0.83         ┆ 0.98         │\n",
       "│ 2024-02-01 ┆ 0.8          ┆ 1.0          │\n",
       "│ 2023-10-26 ┆ 0.58         ┆ 0.94         │\n",
       "│ 2023-08-03 ┆ 0.35         ┆ 0.65         │\n",
       "│ 2023-04-27 ┆ 0.21         ┆ 0.31         │\n",
       "│ …          ┆ …            ┆ …            │\n",
       "│ 2000-04-26 ┆ -0.02        ┆ -0.02        │\n",
       "│ 2000-02-02 ┆ -0.02        ┆ -0.03        │\n",
       "│ 1999-10-27 ┆ -0.01        ┆ -0.01        │\n",
       "│ 1999-07-21 ┆ -0.01        ┆ -0.01        │\n",
       "│ 1999-04-28 ┆ -0.01        ┆ -0.01        │\n",
       "└────────────┴──────────────┴──────────────┘"
      ]
     },
     "execution_count": 12,
     "metadata": {},
     "output_type": "execute_result"
    }
   ],
   "source": [
    "earnings = (\n",
    "    pl.read_csv(Path.cwd() / 'ha1_Amazon.csv', separator=';')\n",
    "    .with_columns(\n",
    "        Date=c('Earnings Date').str.split(' at').list.first().str.strptime(pl.Date, '%B %d, %Y'),\n",
    "        eps_estimate=pl.when(c('EPS Estimate') == '-').then(pl.lit(None)).otherwise(c('EPS Estimate')).cast(pl.Float32, strict=False),\n",
    "        reported_eps=pl.when(c('Reported EPS') == '-').then(pl.lit(None)).otherwise(c('Reported EPS')).cast(pl.Float32, strict=False),\n",
    "    )\n",
    "    .filter(c('eps_estimate').is_not_null())\n",
    "    .select('Date', 'eps_estimate', 'reported_eps')\n",
    ")\n",
    "earnings"
   ]
  },
  {
   "cell_type": "markdown",
   "id": "de9d8f58-1890-435a-a35a-0308a381f705",
   "metadata": {},
   "source": [
    "Then, download AMZN's historical prices and calculate the 2-day percentage changes:"
   ]
  },
  {
   "cell_type": "code",
   "execution_count": 13,
   "id": "c036153a-0c15-4423-baf7-813ca90d5516",
   "metadata": {},
   "outputs": [
    {
     "data": {
      "text/html": [
       "<div><style>\n",
       ".dataframe > thead > tr,\n",
       ".dataframe > tbody > tr {\n",
       "  text-align: right;\n",
       "  white-space: pre-wrap;\n",
       "}\n",
       "</style>\n",
       "<small>shape: (7_034, 9)</small><table border=\"1\" class=\"dataframe\"><thead><tr><th>Date</th><th>Open</th><th>High</th><th>Low</th><th>Close</th><th>Volume</th><th>Dividends</th><th>Stock Splits</th><th>close_delta</th></tr><tr><td>date</td><td>f64</td><td>f64</td><td>f64</td><td>f64</td><td>i64</td><td>f64</td><td>f64</td><td>f64</td></tr></thead><tbody><tr><td>1997-05-15</td><td>0.121875</td><td>0.125</td><td>0.096354</td><td>0.097917</td><td>1443120000</td><td>0.0</td><td>0.0</td><td>-0.127659</td></tr><tr><td>1997-05-16</td><td>0.098438</td><td>0.098958</td><td>0.085417</td><td>0.086458</td><td>294000000</td><td>0.0</td><td>0.0</td><td>-0.054211</td></tr><tr><td>1997-05-19</td><td>0.088021</td><td>0.088542</td><td>0.08125</td><td>0.085417</td><td>122136000</td><td>0.0</td><td>0.0</td><td>-0.164639</td></tr><tr><td>1997-05-20</td><td>0.086458</td><td>0.0875</td><td>0.081771</td><td>0.081771</td><td>109344000</td><td>0.0</td><td>0.0</td><td>-0.146494</td></tr><tr><td>1997-05-21</td><td>0.081771</td><td>0.082292</td><td>0.06875</td><td>0.071354</td><td>377064000</td><td>0.0</td><td>0.0</td><td>0.051097</td></tr><tr><td>&hellip;</td><td>&hellip;</td><td>&hellip;</td><td>&hellip;</td><td>&hellip;</td><td>&hellip;</td><td>&hellip;</td><td>&hellip;</td><td>&hellip;</td></tr><tr><td>2025-04-24</td><td>180.919998</td><td>186.740005</td><td>180.179993</td><td>186.539993</td><td>43763200</td><td>0.0</td><td>0.0</td><td>0.006219</td></tr><tr><td>2025-04-25</td><td>187.619995</td><td>189.940002</td><td>185.490005</td><td>188.990005</td><td>36414300</td><td>0.0</td><td>0.0</td><td>-0.008466</td></tr><tr><td>2025-04-28</td><td>190.110001</td><td>190.220001</td><td>184.889999</td><td>187.699997</td><td>33224700</td><td>0.0</td><td>0.0</td><td>-0.017475</td></tr><tr><td>2025-04-29</td><td>183.990005</td><td>188.020004</td><td>183.679993</td><td>187.389999</td><td>41667300</td><td>0.0</td><td>0.0</td><td>null</td></tr><tr><td>2025-04-30</td><td>182.169998</td><td>185.050003</td><td>178.850006</td><td>184.419998</td><td>55176500</td><td>0.0</td><td>0.0</td><td>null</td></tr></tbody></table></div>"
      ],
      "text/plain": [
       "shape: (7_034, 9)\n",
       "┌───────────┬───────────┬───────────┬───────────┬───┬───────────┬───────────┬───────────┬──────────┐\n",
       "│ Date      ┆ Open      ┆ High      ┆ Low       ┆ … ┆ Volume    ┆ Dividends ┆ Stock     ┆ close_de │\n",
       "│ ---       ┆ ---       ┆ ---       ┆ ---       ┆   ┆ ---       ┆ ---       ┆ Splits    ┆ lta      │\n",
       "│ date      ┆ f64       ┆ f64       ┆ f64       ┆   ┆ i64       ┆ f64       ┆ ---       ┆ ---      │\n",
       "│           ┆           ┆           ┆           ┆   ┆           ┆           ┆ f64       ┆ f64      │\n",
       "╞═══════════╪═══════════╪═══════════╪═══════════╪═══╪═══════════╪═══════════╪═══════════╪══════════╡\n",
       "│ 1997-05-1 ┆ 0.121875  ┆ 0.125     ┆ 0.096354  ┆ … ┆ 144312000 ┆ 0.0       ┆ 0.0       ┆ -0.12765 │\n",
       "│ 5         ┆           ┆           ┆           ┆   ┆ 0         ┆           ┆           ┆ 9        │\n",
       "│ 1997-05-1 ┆ 0.098438  ┆ 0.098958  ┆ 0.085417  ┆ … ┆ 294000000 ┆ 0.0       ┆ 0.0       ┆ -0.05421 │\n",
       "│ 6         ┆           ┆           ┆           ┆   ┆           ┆           ┆           ┆ 1        │\n",
       "│ 1997-05-1 ┆ 0.088021  ┆ 0.088542  ┆ 0.08125   ┆ … ┆ 122136000 ┆ 0.0       ┆ 0.0       ┆ -0.16463 │\n",
       "│ 9         ┆           ┆           ┆           ┆   ┆           ┆           ┆           ┆ 9        │\n",
       "│ 1997-05-2 ┆ 0.086458  ┆ 0.0875    ┆ 0.081771  ┆ … ┆ 109344000 ┆ 0.0       ┆ 0.0       ┆ -0.14649 │\n",
       "│ 0         ┆           ┆           ┆           ┆   ┆           ┆           ┆           ┆ 4        │\n",
       "│ 1997-05-2 ┆ 0.081771  ┆ 0.082292  ┆ 0.06875   ┆ … ┆ 377064000 ┆ 0.0       ┆ 0.0       ┆ 0.051097 │\n",
       "│ 1         ┆           ┆           ┆           ┆   ┆           ┆           ┆           ┆          │\n",
       "│ …         ┆ …         ┆ …         ┆ …         ┆ … ┆ …         ┆ …         ┆ …         ┆ …        │\n",
       "│ 2025-04-2 ┆ 180.91999 ┆ 186.74000 ┆ 180.17999 ┆ … ┆ 43763200  ┆ 0.0       ┆ 0.0       ┆ 0.006219 │\n",
       "│ 4         ┆ 8         ┆ 5         ┆ 3         ┆   ┆           ┆           ┆           ┆          │\n",
       "│ 2025-04-2 ┆ 187.61999 ┆ 189.94000 ┆ 185.49000 ┆ … ┆ 36414300  ┆ 0.0       ┆ 0.0       ┆ -0.00846 │\n",
       "│ 5         ┆ 5         ┆ 2         ┆ 5         ┆   ┆           ┆           ┆           ┆ 6        │\n",
       "│ 2025-04-2 ┆ 190.11000 ┆ 190.22000 ┆ 184.88999 ┆ … ┆ 33224700  ┆ 0.0       ┆ 0.0       ┆ -0.01747 │\n",
       "│ 8         ┆ 1         ┆ 1         ┆ 9         ┆   ┆           ┆           ┆           ┆ 5        │\n",
       "│ 2025-04-2 ┆ 183.99000 ┆ 188.02000 ┆ 183.67999 ┆ … ┆ 41667300  ┆ 0.0       ┆ 0.0       ┆ null     │\n",
       "│ 9         ┆ 5         ┆ 4         ┆ 3         ┆   ┆           ┆           ┆           ┆          │\n",
       "│ 2025-04-3 ┆ 182.16999 ┆ 185.05000 ┆ 178.85000 ┆ … ┆ 55176500  ┆ 0.0       ┆ 0.0       ┆ null     │\n",
       "│ 0         ┆ 8         ┆ 3         ┆ 6         ┆   ┆           ┆           ┆           ┆          │\n",
       "└───────────┴───────────┴───────────┴───────────┴───┴───────────┴───────────┴───────────┴──────────┘"
      ]
     },
     "execution_count": 13,
     "metadata": {},
     "output_type": "execute_result"
    }
   ],
   "source": [
    "amzn = (\n",
    "    load_ohlc('AMZN', start='1997-01-01')\n",
    "    .with_columns(\n",
    "        Date=c('Date').cast(pl.Date),\n",
    "        close_delta=(c('Close').shift(-2) / c('Close')) - 1\n",
    "    )\n",
    ")\n",
    "amzn"
   ]
  },
  {
   "cell_type": "markdown",
   "id": "448c97ff-886e-4ca9-92cf-1dfa57021c01",
   "metadata": {},
   "source": [
    "Then, filter earnings where Actual EPS > EPS Estimate:"
   ]
  },
  {
   "cell_type": "code",
   "execution_count": 14,
   "id": "ffa1d40d-c42d-44dc-8d43-f69e9080b86d",
   "metadata": {},
   "outputs": [
    {
     "data": {
      "text/html": [
       "<div><style>\n",
       ".dataframe > thead > tr,\n",
       ".dataframe > tbody > tr {\n",
       "  text-align: right;\n",
       "  white-space: pre-wrap;\n",
       "}\n",
       "</style>\n",
       "<small>shape: (33, 3)</small><table border=\"1\" class=\"dataframe\"><thead><tr><th>Date</th><th>eps_estimate</th><th>reported_eps</th></tr><tr><td>date</td><td>f32</td><td>f32</td></tr></thead><tbody><tr><td>2024-04-30</td><td>0.83</td><td>0.98</td></tr><tr><td>2024-02-01</td><td>0.8</td><td>1.0</td></tr><tr><td>2023-10-26</td><td>0.58</td><td>0.94</td></tr><tr><td>2023-08-03</td><td>0.35</td><td>0.65</td></tr><tr><td>2023-04-27</td><td>0.21</td><td>0.31</td></tr><tr><td>&hellip;</td><td>&hellip;</td><td>&hellip;</td></tr><tr><td>2011-01-27</td><td>0.04</td><td>0.05</td></tr><tr><td>2010-10-21</td><td>0.02</td><td>0.03</td></tr><tr><td>2009-01-29</td><td>0.02</td><td>0.03</td></tr><tr><td>2008-07-23</td><td>0.01</td><td>0.02</td></tr><tr><td>2006-02-02</td><td>0.01</td><td>0.02</td></tr></tbody></table></div>"
      ],
      "text/plain": [
       "shape: (33, 3)\n",
       "┌────────────┬──────────────┬──────────────┐\n",
       "│ Date       ┆ eps_estimate ┆ reported_eps │\n",
       "│ ---        ┆ ---          ┆ ---          │\n",
       "│ date       ┆ f32          ┆ f32          │\n",
       "╞════════════╪══════════════╪══════════════╡\n",
       "│ 2024-04-30 ┆ 0.83         ┆ 0.98         │\n",
       "│ 2024-02-01 ┆ 0.8          ┆ 1.0          │\n",
       "│ 2023-10-26 ┆ 0.58         ┆ 0.94         │\n",
       "│ 2023-08-03 ┆ 0.35         ┆ 0.65         │\n",
       "│ 2023-04-27 ┆ 0.21         ┆ 0.31         │\n",
       "│ …          ┆ …            ┆ …            │\n",
       "│ 2011-01-27 ┆ 0.04         ┆ 0.05         │\n",
       "│ 2010-10-21 ┆ 0.02         ┆ 0.03         │\n",
       "│ 2009-01-29 ┆ 0.02         ┆ 0.03         │\n",
       "│ 2008-07-23 ┆ 0.01         ┆ 0.02         │\n",
       "│ 2006-02-02 ┆ 0.01         ┆ 0.02         │\n",
       "└────────────┴──────────────┴──────────────┘"
      ]
     },
     "execution_count": 14,
     "metadata": {},
     "output_type": "execute_result"
    }
   ],
   "source": [
    "positive_surprises = earnings.filter(c('reported_eps') > c('eps_estimate'))\n",
    "positive_surprises"
   ]
  },
  {
   "cell_type": "markdown",
   "id": "ff05d5c3-255a-4262-9b14-83084bb6e8ca",
   "metadata": {},
   "source": [
    "Finally, calculate the median of the 2-day changes of those positive surprises:"
   ]
  },
  {
   "cell_type": "code",
   "execution_count": 15,
   "id": "859b3e1a-d1c3-4fb7-9b59-6e697c0e024c",
   "metadata": {},
   "outputs": [
    {
     "data": {
      "text/plain": [
       "2.0103379657178566"
      ]
     },
     "execution_count": 15,
     "metadata": {},
     "output_type": "execute_result"
    }
   ],
   "source": [
    "(\n",
    "    amzn.join(positive_surprises, on='Date', how='inner')\n",
    "    .select(c('close_delta').median())\n",
    ").item(0, 0) * 100"
   ]
  }
 ],
 "metadata": {
  "kernelspec": {
   "display_name": "Python 3 (ipykernel)",
   "language": "python",
   "name": "python3"
  },
  "language_info": {
   "codemirror_mode": {
    "name": "ipython",
    "version": 3
   },
   "file_extension": ".py",
   "mimetype": "text/x-python",
   "name": "python",
   "nbconvert_exporter": "python",
   "pygments_lexer": "ipython3",
   "version": "3.12.10"
  }
 },
 "nbformat": 4,
 "nbformat_minor": 5
}
